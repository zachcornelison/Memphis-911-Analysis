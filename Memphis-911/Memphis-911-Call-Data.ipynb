{
 "cells": [
  {
   "cell_type": "code",
   "execution_count": 78,
   "metadata": {},
   "outputs": [],
   "source": [
    "import pandas as pd"
   ]
  },
  {
   "cell_type": "code",
   "execution_count": 79,
   "metadata": {},
   "outputs": [],
   "source": [
    "calls = pd.read_csv(\"911_Performance.csv\")"
   ]
  },
  {
   "cell_type": "code",
   "execution_count": 80,
   "metadata": {},
   "outputs": [
    {
     "data": {
      "text/plain": [
       "<matplotlib.axes._subplots.AxesSubplot at 0x1a26fdc978>"
      ]
     },
     "execution_count": 80,
     "metadata": {},
     "output_type": "execute_result"
    },
    {
     "data": {
      "image/png": "[encoded data removed]",
      "text/plain": [
       "<Figure size 720x432 with 1 Axes>"
      ]
     },
     "metadata": {
      "needs_background": "light"
     },
     "output_type": "display_data"
    }
   ],
   "source": [
    "calls['Ring(sec)'].sort_values().plot.hist(\n",
    "    figsize=(10,6),\n",
    "    color='purple',\n",
    "    fontsize=16,\n",
    "    title=\"Total Ring Time Counts\"\n",
    ")"
   ]
  },
  {
   "cell_type": "code",
   "execution_count": 81,
   "metadata": {},
   "outputs": [
    {
     "data": {
      "text/plain": [
       "(50, 18)"
      ]
     },
     "execution_count": 81,
     "metadata": {},
     "output_type": "execute_result"
    }
   ],
   "source": [
    "calls.shape"
   ]
  },
  {
   "cell_type": "code",
   "execution_count": 82,
   "metadata": {},
   "outputs": [
    {
     "data": {
      "text/html": [
       "<div>\n",
       "<style scoped>\n",
       "    .dataframe tbody tr th:only-of-type {\n",
       "        vertical-align: middle;\n",
       "    }\n",
       "\n",
       "    .dataframe tbody tr th {\n",
       "        vertical-align: top;\n",
       "    }\n",
       "\n",
       "    .dataframe thead th {\n",
       "        text-align: right;\n",
       "    }\n",
       "</style>\n",
       "<table border=\"1\" class=\"dataframe\">\n",
       "  <thead>\n",
       "    <tr style=\"text-align: right;\">\n",
       "      <th></th>\n",
       "      <th>MonthYear</th>\n",
       "      <th>Volume</th>\n",
       "      <th>Percent Answered within 20 secs</th>\n",
       "      <th>Percent Abandoned</th>\n",
       "      <th>Goal</th>\n",
       "      <th>Setup Time (Sec)</th>\n",
       "      <th>Queue (Secs)</th>\n",
       "      <th>Ring(sec)</th>\n",
       "      <th>Total Average (Secs)</th>\n",
       "      <th>National Goal (secs)</th>\n",
       "      <th>COM Goal (secs)</th>\n",
       "      <th>Month Order</th>\n",
       "      <th>Month</th>\n",
       "      <th>Year</th>\n",
       "      <th>Volume YTD</th>\n",
       "      <th>Volume YTD Change</th>\n",
       "      <th>Volume Month YOY Change</th>\n",
       "      <th>Total Time YOY Change</th>\n",
       "    </tr>\n",
       "  </thead>\n",
       "  <tbody>\n",
       "    <tr>\n",
       "      <th>0</th>\n",
       "      <td>01/01/2015 12:00:00 AM</td>\n",
       "      <td>67391</td>\n",
       "      <td>53.70</td>\n",
       "      <td>29.10</td>\n",
       "      <td>0.95</td>\n",
       "      <td>NaN</td>\n",
       "      <td>35.30</td>\n",
       "      <td>4.30</td>\n",
       "      <td>39.60</td>\n",
       "      <td>10</td>\n",
       "      <td>20</td>\n",
       "      <td>1</td>\n",
       "      <td>January</td>\n",
       "      <td>2015</td>\n",
       "      <td>67391</td>\n",
       "      <td>NaN</td>\n",
       "      <td>NaN</td>\n",
       "      <td>NaN</td>\n",
       "    </tr>\n",
       "    <tr>\n",
       "      <th>1</th>\n",
       "      <td>02/01/2015 12:00:00 AM</td>\n",
       "      <td>61075</td>\n",
       "      <td>56.70</td>\n",
       "      <td>27.70</td>\n",
       "      <td>0.95</td>\n",
       "      <td>NaN</td>\n",
       "      <td>29.40</td>\n",
       "      <td>4.30</td>\n",
       "      <td>33.70</td>\n",
       "      <td>10</td>\n",
       "      <td>20</td>\n",
       "      <td>2</td>\n",
       "      <td>February</td>\n",
       "      <td>2015</td>\n",
       "      <td>128466</td>\n",
       "      <td>NaN</td>\n",
       "      <td>NaN</td>\n",
       "      <td>NaN</td>\n",
       "    </tr>\n",
       "    <tr>\n",
       "      <th>2</th>\n",
       "      <td>03/01/2015 12:00:00 AM</td>\n",
       "      <td>75868</td>\n",
       "      <td>49.60</td>\n",
       "      <td>30.80</td>\n",
       "      <td>0.95</td>\n",
       "      <td>NaN</td>\n",
       "      <td>49.90</td>\n",
       "      <td>4.10</td>\n",
       "      <td>54.00</td>\n",
       "      <td>10</td>\n",
       "      <td>20</td>\n",
       "      <td>3</td>\n",
       "      <td>March</td>\n",
       "      <td>2015</td>\n",
       "      <td>204334</td>\n",
       "      <td>NaN</td>\n",
       "      <td>NaN</td>\n",
       "      <td>NaN</td>\n",
       "    </tr>\n",
       "    <tr>\n",
       "      <th>3</th>\n",
       "      <td>04/01/2015 12:00:00 AM</td>\n",
       "      <td>80804</td>\n",
       "      <td>40.60</td>\n",
       "      <td>32.30</td>\n",
       "      <td>0.95</td>\n",
       "      <td>NaN</td>\n",
       "      <td>49.70</td>\n",
       "      <td>3.80</td>\n",
       "      <td>53.50</td>\n",
       "      <td>10</td>\n",
       "      <td>20</td>\n",
       "      <td>4</td>\n",
       "      <td>April</td>\n",
       "      <td>2015</td>\n",
       "      <td>285138</td>\n",
       "      <td>NaN</td>\n",
       "      <td>NaN</td>\n",
       "      <td>NaN</td>\n",
       "    </tr>\n",
       "    <tr>\n",
       "      <th>4</th>\n",
       "      <td>05/01/2015 12:00:00 AM</td>\n",
       "      <td>88855</td>\n",
       "      <td>35.60</td>\n",
       "      <td>36.10</td>\n",
       "      <td>0.95</td>\n",
       "      <td>NaN</td>\n",
       "      <td>65.90</td>\n",
       "      <td>3.50</td>\n",
       "      <td>69.40</td>\n",
       "      <td>10</td>\n",
       "      <td>20</td>\n",
       "      <td>5</td>\n",
       "      <td>May</td>\n",
       "      <td>2015</td>\n",
       "      <td>373993</td>\n",
       "      <td>NaN</td>\n",
       "      <td>NaN</td>\n",
       "      <td>NaN</td>\n",
       "    </tr>\n",
       "    <tr>\n",
       "      <th>5</th>\n",
       "      <td>06/01/2015 12:00:00 AM</td>\n",
       "      <td>85945</td>\n",
       "      <td>61.60</td>\n",
       "      <td>39.40</td>\n",
       "      <td>0.95</td>\n",
       "      <td>NaN</td>\n",
       "      <td>52.00</td>\n",
       "      <td>3.50</td>\n",
       "      <td>55.50</td>\n",
       "      <td>10</td>\n",
       "      <td>20</td>\n",
       "      <td>6</td>\n",
       "      <td>June</td>\n",
       "      <td>2015</td>\n",
       "      <td>459938</td>\n",
       "      <td>NaN</td>\n",
       "      <td>NaN</td>\n",
       "      <td>NaN</td>\n",
       "    </tr>\n",
       "    <tr>\n",
       "      <th>6</th>\n",
       "      <td>07/01/2015 12:00:00 AM</td>\n",
       "      <td>77525</td>\n",
       "      <td>33.50</td>\n",
       "      <td>39.60</td>\n",
       "      <td>0.95</td>\n",
       "      <td>NaN</td>\n",
       "      <td>95.00</td>\n",
       "      <td>3.50</td>\n",
       "      <td>98.50</td>\n",
       "      <td>10</td>\n",
       "      <td>20</td>\n",
       "      <td>7</td>\n",
       "      <td>July</td>\n",
       "      <td>2015</td>\n",
       "      <td>537463</td>\n",
       "      <td>NaN</td>\n",
       "      <td>NaN</td>\n",
       "      <td>NaN</td>\n",
       "    </tr>\n",
       "    <tr>\n",
       "      <th>7</th>\n",
       "      <td>08/01/2015 12:00:00 AM</td>\n",
       "      <td>90701</td>\n",
       "      <td>37.20</td>\n",
       "      <td>36.20</td>\n",
       "      <td>0.95</td>\n",
       "      <td>NaN</td>\n",
       "      <td>76.30</td>\n",
       "      <td>3.60</td>\n",
       "      <td>79.90</td>\n",
       "      <td>10</td>\n",
       "      <td>20</td>\n",
       "      <td>8</td>\n",
       "      <td>August</td>\n",
       "      <td>2015</td>\n",
       "      <td>628164</td>\n",
       "      <td>NaN</td>\n",
       "      <td>NaN</td>\n",
       "      <td>NaN</td>\n",
       "    </tr>\n",
       "    <tr>\n",
       "      <th>8</th>\n",
       "      <td>09/01/2015 12:00:00 AM</td>\n",
       "      <td>84897</td>\n",
       "      <td>48.40</td>\n",
       "      <td>45.10</td>\n",
       "      <td>0.95</td>\n",
       "      <td>NaN</td>\n",
       "      <td>45.50</td>\n",
       "      <td>3.80</td>\n",
       "      <td>49.30</td>\n",
       "      <td>10</td>\n",
       "      <td>20</td>\n",
       "      <td>9</td>\n",
       "      <td>September</td>\n",
       "      <td>2015</td>\n",
       "      <td>713061</td>\n",
       "      <td>NaN</td>\n",
       "      <td>NaN</td>\n",
       "      <td>NaN</td>\n",
       "    </tr>\n",
       "    <tr>\n",
       "      <th>9</th>\n",
       "      <td>10/01/2015 12:00:00 AM</td>\n",
       "      <td>80515</td>\n",
       "      <td>47.60</td>\n",
       "      <td>31.70</td>\n",
       "      <td>0.95</td>\n",
       "      <td>NaN</td>\n",
       "      <td>54.70</td>\n",
       "      <td>4.00</td>\n",
       "      <td>58.70</td>\n",
       "      <td>10</td>\n",
       "      <td>20</td>\n",
       "      <td>10</td>\n",
       "      <td>October</td>\n",
       "      <td>2015</td>\n",
       "      <td>793576</td>\n",
       "      <td>NaN</td>\n",
       "      <td>NaN</td>\n",
       "      <td>NaN</td>\n",
       "    </tr>\n",
       "    <tr>\n",
       "      <th>10</th>\n",
       "      <td>11/01/2015 12:00:00 AM</td>\n",
       "      <td>65747</td>\n",
       "      <td>49.50</td>\n",
       "      <td>26.30</td>\n",
       "      <td>0.95</td>\n",
       "      <td>NaN</td>\n",
       "      <td>42.80</td>\n",
       "      <td>4.20</td>\n",
       "      <td>47.00</td>\n",
       "      <td>10</td>\n",
       "      <td>20</td>\n",
       "      <td>11</td>\n",
       "      <td>November</td>\n",
       "      <td>2015</td>\n",
       "      <td>859323</td>\n",
       "      <td>NaN</td>\n",
       "      <td>NaN</td>\n",
       "      <td>NaN</td>\n",
       "    </tr>\n",
       "    <tr>\n",
       "      <th>11</th>\n",
       "      <td>12/01/2015 12:00:00 AM</td>\n",
       "      <td>65111</td>\n",
       "      <td>53.20</td>\n",
       "      <td>35.40</td>\n",
       "      <td>0.95</td>\n",
       "      <td>NaN</td>\n",
       "      <td>51.30</td>\n",
       "      <td>8.40</td>\n",
       "      <td>59.70</td>\n",
       "      <td>10</td>\n",
       "      <td>20</td>\n",
       "      <td>12</td>\n",
       "      <td>December</td>\n",
       "      <td>2015</td>\n",
       "      <td>924434</td>\n",
       "      <td>NaN</td>\n",
       "      <td>NaN</td>\n",
       "      <td>NaN</td>\n",
       "    </tr>\n",
       "    <tr>\n",
       "      <th>12</th>\n",
       "      <td>01/01/2016 12:00:00 AM</td>\n",
       "      <td>66474</td>\n",
       "      <td>61.40</td>\n",
       "      <td>32.50</td>\n",
       "      <td>0.95</td>\n",
       "      <td>NaN</td>\n",
       "      <td>24.96</td>\n",
       "      <td>9.14</td>\n",
       "      <td>34.10</td>\n",
       "      <td>10</td>\n",
       "      <td>20</td>\n",
       "      <td>1</td>\n",
       "      <td>January</td>\n",
       "      <td>2016</td>\n",
       "      <td>66474</td>\n",
       "      <td>-1.360716</td>\n",
       "      <td>-1.360716</td>\n",
       "      <td>-13.888889</td>\n",
       "    </tr>\n",
       "    <tr>\n",
       "      <th>13</th>\n",
       "      <td>02/01/2016 12:00:00 AM</td>\n",
       "      <td>62410</td>\n",
       "      <td>65.60</td>\n",
       "      <td>27.80</td>\n",
       "      <td>0.95</td>\n",
       "      <td>NaN</td>\n",
       "      <td>23.29</td>\n",
       "      <td>8.24</td>\n",
       "      <td>31.53</td>\n",
       "      <td>10</td>\n",
       "      <td>20</td>\n",
       "      <td>2</td>\n",
       "      <td>February</td>\n",
       "      <td>2016</td>\n",
       "      <td>128884</td>\n",
       "      <td>0.325378</td>\n",
       "      <td>2.185837</td>\n",
       "      <td>-6.439169</td>\n",
       "    </tr>\n",
       "    <tr>\n",
       "      <th>14</th>\n",
       "      <td>03/01/2016 12:00:00 AM</td>\n",
       "      <td>69989</td>\n",
       "      <td>68.20</td>\n",
       "      <td>27.10</td>\n",
       "      <td>0.95</td>\n",
       "      <td>NaN</td>\n",
       "      <td>19.82</td>\n",
       "      <td>7.97</td>\n",
       "      <td>27.79</td>\n",
       "      <td>10</td>\n",
       "      <td>20</td>\n",
       "      <td>3</td>\n",
       "      <td>March</td>\n",
       "      <td>2016</td>\n",
       "      <td>198873</td>\n",
       "      <td>-2.672585</td>\n",
       "      <td>-7.748985</td>\n",
       "      <td>-48.537037</td>\n",
       "    </tr>\n",
       "    <tr>\n",
       "      <th>15</th>\n",
       "      <td>04/01/2016 12:00:00 AM</td>\n",
       "      <td>71216</td>\n",
       "      <td>61.50</td>\n",
       "      <td>29.40</td>\n",
       "      <td>0.95</td>\n",
       "      <td>NaN</td>\n",
       "      <td>26.31</td>\n",
       "      <td>8.33</td>\n",
       "      <td>34.64</td>\n",
       "      <td>10</td>\n",
       "      <td>20</td>\n",
       "      <td>4</td>\n",
       "      <td>April</td>\n",
       "      <td>2016</td>\n",
       "      <td>270089</td>\n",
       "      <td>-5.277795</td>\n",
       "      <td>-11.865749</td>\n",
       "      <td>-35.252336</td>\n",
       "    </tr>\n",
       "    <tr>\n",
       "      <th>16</th>\n",
       "      <td>05/01/2016 12:00:00 AM</td>\n",
       "      <td>72708</td>\n",
       "      <td>60.20</td>\n",
       "      <td>30.40</td>\n",
       "      <td>0.95</td>\n",
       "      <td>NaN</td>\n",
       "      <td>28.11</td>\n",
       "      <td>8.37</td>\n",
       "      <td>36.48</td>\n",
       "      <td>10</td>\n",
       "      <td>20</td>\n",
       "      <td>5</td>\n",
       "      <td>May</td>\n",
       "      <td>2016</td>\n",
       "      <td>342797</td>\n",
       "      <td>-8.341333</td>\n",
       "      <td>-18.172303</td>\n",
       "      <td>-47.435159</td>\n",
       "    </tr>\n",
       "    <tr>\n",
       "      <th>17</th>\n",
       "      <td>06/01/2016 12:00:00 AM</td>\n",
       "      <td>75193</td>\n",
       "      <td>56.60</td>\n",
       "      <td>38.80</td>\n",
       "      <td>0.95</td>\n",
       "      <td>NaN</td>\n",
       "      <td>23.98</td>\n",
       "      <td>15.38</td>\n",
       "      <td>39.36</td>\n",
       "      <td>10</td>\n",
       "      <td>20</td>\n",
       "      <td>6</td>\n",
       "      <td>June</td>\n",
       "      <td>2016</td>\n",
       "      <td>417990</td>\n",
       "      <td>-9.120360</td>\n",
       "      <td>-12.510326</td>\n",
       "      <td>-29.081081</td>\n",
       "    </tr>\n",
       "    <tr>\n",
       "      <th>18</th>\n",
       "      <td>07/01/2016 12:00:00 AM</td>\n",
       "      <td>77635</td>\n",
       "      <td>56.60</td>\n",
       "      <td>33.70</td>\n",
       "      <td>0.95</td>\n",
       "      <td>NaN</td>\n",
       "      <td>24.75</td>\n",
       "      <td>15.14</td>\n",
       "      <td>39.89</td>\n",
       "      <td>10</td>\n",
       "      <td>20</td>\n",
       "      <td>7</td>\n",
       "      <td>July</td>\n",
       "      <td>2016</td>\n",
       "      <td>495625</td>\n",
       "      <td>-7.784350</td>\n",
       "      <td>0.141890</td>\n",
       "      <td>-59.502538</td>\n",
       "    </tr>\n",
       "    <tr>\n",
       "      <th>19</th>\n",
       "      <td>08/01/2016 12:00:00 AM</td>\n",
       "      <td>73708</td>\n",
       "      <td>58.70</td>\n",
       "      <td>31.20</td>\n",
       "      <td>0.95</td>\n",
       "      <td>NaN</td>\n",
       "      <td>22.11</td>\n",
       "      <td>13.66</td>\n",
       "      <td>35.77</td>\n",
       "      <td>10</td>\n",
       "      <td>20</td>\n",
       "      <td>8</td>\n",
       "      <td>August</td>\n",
       "      <td>2016</td>\n",
       "      <td>569333</td>\n",
       "      <td>-9.365548</td>\n",
       "      <td>-18.735185</td>\n",
       "      <td>-55.231539</td>\n",
       "    </tr>\n",
       "    <tr>\n",
       "      <th>20</th>\n",
       "      <td>09/01/2016 12:00:00 AM</td>\n",
       "      <td>67821</td>\n",
       "      <td>63.40</td>\n",
       "      <td>28.00</td>\n",
       "      <td>0.95</td>\n",
       "      <td>NaN</td>\n",
       "      <td>24.26</td>\n",
       "      <td>8.20</td>\n",
       "      <td>32.46</td>\n",
       "      <td>10</td>\n",
       "      <td>20</td>\n",
       "      <td>9</td>\n",
       "      <td>September</td>\n",
       "      <td>2016</td>\n",
       "      <td>637154</td>\n",
       "      <td>-10.645232</td>\n",
       "      <td>-20.113785</td>\n",
       "      <td>-34.158215</td>\n",
       "    </tr>\n",
       "    <tr>\n",
       "      <th>21</th>\n",
       "      <td>10/01/2016 12:00:00 AM</td>\n",
       "      <td>66466</td>\n",
       "      <td>68.60</td>\n",
       "      <td>24.40</td>\n",
       "      <td>0.95</td>\n",
       "      <td>NaN</td>\n",
       "      <td>18.66</td>\n",
       "      <td>7.57</td>\n",
       "      <td>26.23</td>\n",
       "      <td>10</td>\n",
       "      <td>20</td>\n",
       "      <td>10</td>\n",
       "      <td>October</td>\n",
       "      <td>2016</td>\n",
       "      <td>703620</td>\n",
       "      <td>-11.335524</td>\n",
       "      <td>-17.448923</td>\n",
       "      <td>-55.315162</td>\n",
       "    </tr>\n",
       "    <tr>\n",
       "      <th>22</th>\n",
       "      <td>11/01/2016 12:00:00 AM</td>\n",
       "      <td>55454</td>\n",
       "      <td>83.50</td>\n",
       "      <td>17.10</td>\n",
       "      <td>0.95</td>\n",
       "      <td>NaN</td>\n",
       "      <td>8.02</td>\n",
       "      <td>6.75</td>\n",
       "      <td>14.77</td>\n",
       "      <td>10</td>\n",
       "      <td>20</td>\n",
       "      <td>11</td>\n",
       "      <td>November</td>\n",
       "      <td>2016</td>\n",
       "      <td>759074</td>\n",
       "      <td>-11.666044</td>\n",
       "      <td>-15.655467</td>\n",
       "      <td>-68.574468</td>\n",
       "    </tr>\n",
       "    <tr>\n",
       "      <th>23</th>\n",
       "      <td>12/01/2016 12:00:00 AM</td>\n",
       "      <td>59483</td>\n",
       "      <td>84.80</td>\n",
       "      <td>17.80</td>\n",
       "      <td>0.95</td>\n",
       "      <td>NaN</td>\n",
       "      <td>6.34</td>\n",
       "      <td>7.65</td>\n",
       "      <td>13.99</td>\n",
       "      <td>10</td>\n",
       "      <td>20</td>\n",
       "      <td>12</td>\n",
       "      <td>December</td>\n",
       "      <td>2016</td>\n",
       "      <td>818557</td>\n",
       "      <td>-11.453170</td>\n",
       "      <td>-8.643701</td>\n",
       "      <td>-76.566164</td>\n",
       "    </tr>\n",
       "    <tr>\n",
       "      <th>24</th>\n",
       "      <td>01/01/2017 12:00:00 AM</td>\n",
       "      <td>56973</td>\n",
       "      <td>86.40</td>\n",
       "      <td>16.50</td>\n",
       "      <td>0.95</td>\n",
       "      <td>NaN</td>\n",
       "      <td>5.75</td>\n",
       "      <td>7.47</td>\n",
       "      <td>13.22</td>\n",
       "      <td>10</td>\n",
       "      <td>20</td>\n",
       "      <td>1</td>\n",
       "      <td>January</td>\n",
       "      <td>2017</td>\n",
       "      <td>56973</td>\n",
       "      <td>-14.292806</td>\n",
       "      <td>-14.292806</td>\n",
       "      <td>-61.231672</td>\n",
       "    </tr>\n",
       "    <tr>\n",
       "      <th>25</th>\n",
       "      <td>02/01/2017 12:00:00 AM</td>\n",
       "      <td>51416</td>\n",
       "      <td>87.20</td>\n",
       "      <td>15.60</td>\n",
       "      <td>0.95</td>\n",
       "      <td>NaN</td>\n",
       "      <td>5.32</td>\n",
       "      <td>7.36</td>\n",
       "      <td>12.68</td>\n",
       "      <td>10</td>\n",
       "      <td>20</td>\n",
       "      <td>2</td>\n",
       "      <td>February</td>\n",
       "      <td>2017</td>\n",
       "      <td>108389</td>\n",
       "      <td>-15.901896</td>\n",
       "      <td>-17.615767</td>\n",
       "      <td>-59.784332</td>\n",
       "    </tr>\n",
       "    <tr>\n",
       "      <th>26</th>\n",
       "      <td>03/01/2017 12:00:00 AM</td>\n",
       "      <td>56924</td>\n",
       "      <td>85.80</td>\n",
       "      <td>16.30</td>\n",
       "      <td>0.95</td>\n",
       "      <td>NaN</td>\n",
       "      <td>5.99</td>\n",
       "      <td>7.38</td>\n",
       "      <td>13.37</td>\n",
       "      <td>10</td>\n",
       "      <td>20</td>\n",
       "      <td>3</td>\n",
       "      <td>March</td>\n",
       "      <td>2017</td>\n",
       "      <td>165313</td>\n",
       "      <td>-16.875091</td>\n",
       "      <td>-18.667219</td>\n",
       "      <td>-51.889169</td>\n",
       "    </tr>\n",
       "    <tr>\n",
       "      <th>27</th>\n",
       "      <td>04/01/2017 12:00:00 AM</td>\n",
       "      <td>56989</td>\n",
       "      <td>88.70</td>\n",
       "      <td>13.90</td>\n",
       "      <td>0.95</td>\n",
       "      <td>NaN</td>\n",
       "      <td>4.64</td>\n",
       "      <td>6.50</td>\n",
       "      <td>11.14</td>\n",
       "      <td>10</td>\n",
       "      <td>20</td>\n",
       "      <td>4</td>\n",
       "      <td>April</td>\n",
       "      <td>2017</td>\n",
       "      <td>222302</td>\n",
       "      <td>-17.693057</td>\n",
       "      <td>-19.977252</td>\n",
       "      <td>-67.840647</td>\n",
       "    </tr>\n",
       "    <tr>\n",
       "      <th>28</th>\n",
       "      <td>05/01/2017 12:00:00 AM</td>\n",
       "      <td>60224</td>\n",
       "      <td>86.20</td>\n",
       "      <td>14.30</td>\n",
       "      <td>0.95</td>\n",
       "      <td>NaN</td>\n",
       "      <td>6.84</td>\n",
       "      <td>11.50</td>\n",
       "      <td>18.34</td>\n",
       "      <td>10</td>\n",
       "      <td>20</td>\n",
       "      <td>5</td>\n",
       "      <td>May</td>\n",
       "      <td>2017</td>\n",
       "      <td>282526</td>\n",
       "      <td>-17.582126</td>\n",
       "      <td>-17.170050</td>\n",
       "      <td>-49.725877</td>\n",
       "    </tr>\n",
       "    <tr>\n",
       "      <th>29</th>\n",
       "      <td>06/01/2017 12:00:00 AM</td>\n",
       "      <td>55833</td>\n",
       "      <td>93.30</td>\n",
       "      <td>10.90</td>\n",
       "      <td>0.95</td>\n",
       "      <td>NaN</td>\n",
       "      <td>2.81</td>\n",
       "      <td>6.31</td>\n",
       "      <td>9.12</td>\n",
       "      <td>10</td>\n",
       "      <td>20</td>\n",
       "      <td>6</td>\n",
       "      <td>June</td>\n",
       "      <td>2017</td>\n",
       "      <td>338359</td>\n",
       "      <td>-19.050934</td>\n",
       "      <td>-25.747078</td>\n",
       "      <td>-76.829268</td>\n",
       "    </tr>\n",
       "    <tr>\n",
       "      <th>30</th>\n",
       "      <td>07/01/2017 12:00:00 AM</td>\n",
       "      <td>58741</td>\n",
       "      <td>91.90</td>\n",
       "      <td>10.70</td>\n",
       "      <td>0.95</td>\n",
       "      <td>2.65</td>\n",
       "      <td>0.68</td>\n",
       "      <td>6.24</td>\n",
       "      <td>9.57</td>\n",
       "      <td>10</td>\n",
       "      <td>20</td>\n",
       "      <td>7</td>\n",
       "      <td>July</td>\n",
       "      <td>2017</td>\n",
       "      <td>397100</td>\n",
       "      <td>-19.878941</td>\n",
       "      <td>-24.336961</td>\n",
       "      <td>-76.009025</td>\n",
       "    </tr>\n",
       "    <tr>\n",
       "      <th>31</th>\n",
       "      <td>08/01/2017 12:00:00 AM</td>\n",
       "      <td>54427</td>\n",
       "      <td>93.60</td>\n",
       "      <td>9.50</td>\n",
       "      <td>0.95</td>\n",
       "      <td>0.09</td>\n",
       "      <td>2.53</td>\n",
       "      <td>6.23</td>\n",
       "      <td>8.85</td>\n",
       "      <td>10</td>\n",
       "      <td>20</td>\n",
       "      <td>8</td>\n",
       "      <td>August</td>\n",
       "      <td>2017</td>\n",
       "      <td>451527</td>\n",
       "      <td>-20.691932</td>\n",
       "      <td>-26.158626</td>\n",
       "      <td>-75.258597</td>\n",
       "    </tr>\n",
       "    <tr>\n",
       "      <th>32</th>\n",
       "      <td>09/01/2017 12:00:00 AM</td>\n",
       "      <td>53293</td>\n",
       "      <td>92.90</td>\n",
       "      <td>9.42</td>\n",
       "      <td>0.95</td>\n",
       "      <td>0.09</td>\n",
       "      <td>2.74</td>\n",
       "      <td>6.06</td>\n",
       "      <td>8.89</td>\n",
       "      <td>10</td>\n",
       "      <td>20</td>\n",
       "      <td>9</td>\n",
       "      <td>September</td>\n",
       "      <td>2017</td>\n",
       "      <td>504820</td>\n",
       "      <td>-20.769547</td>\n",
       "      <td>-21.421094</td>\n",
       "      <td>-72.612446</td>\n",
       "    </tr>\n",
       "    <tr>\n",
       "      <th>33</th>\n",
       "      <td>10/01/2017 12:00:00 AM</td>\n",
       "      <td>50361</td>\n",
       "      <td>93.50</td>\n",
       "      <td>9.69</td>\n",
       "      <td>0.95</td>\n",
       "      <td>0.09</td>\n",
       "      <td>2.59</td>\n",
       "      <td>5.94</td>\n",
       "      <td>8.62</td>\n",
       "      <td>10</td>\n",
       "      <td>20</td>\n",
       "      <td>10</td>\n",
       "      <td>October</td>\n",
       "      <td>2017</td>\n",
       "      <td>555181</td>\n",
       "      <td>-21.096473</td>\n",
       "      <td>-24.230434</td>\n",
       "      <td>-67.136866</td>\n",
       "    </tr>\n",
       "    <tr>\n",
       "      <th>34</th>\n",
       "      <td>11/01/2017 12:00:00 AM</td>\n",
       "      <td>47584</td>\n",
       "      <td>95.15</td>\n",
       "      <td>9.14</td>\n",
       "      <td>0.95</td>\n",
       "      <td>0.09</td>\n",
       "      <td>1.66</td>\n",
       "      <td>6.04</td>\n",
       "      <td>7.79</td>\n",
       "      <td>10</td>\n",
       "      <td>20</td>\n",
       "      <td>11</td>\n",
       "      <td>November</td>\n",
       "      <td>2017</td>\n",
       "      <td>602765</td>\n",
       "      <td>-20.592063</td>\n",
       "      <td>-14.191943</td>\n",
       "      <td>-47.257955</td>\n",
       "    </tr>\n",
       "    <tr>\n",
       "      <th>35</th>\n",
       "      <td>12/01/2017 12:00:00 AM</td>\n",
       "      <td>47252</td>\n",
       "      <td>94.29</td>\n",
       "      <td>10.17</td>\n",
       "      <td>0.95</td>\n",
       "      <td>0.09</td>\n",
       "      <td>0.16</td>\n",
       "      <td>8.05</td>\n",
       "      <td>8.30</td>\n",
       "      <td>10</td>\n",
       "      <td>20</td>\n",
       "      <td>12</td>\n",
       "      <td>December</td>\n",
       "      <td>2017</td>\n",
       "      <td>650017</td>\n",
       "      <td>-20.589892</td>\n",
       "      <td>-20.562177</td>\n",
       "      <td>-40.671909</td>\n",
       "    </tr>\n",
       "    <tr>\n",
       "      <th>36</th>\n",
       "      <td>01/01/2018 12:00:00 AM</td>\n",
       "      <td>49928</td>\n",
       "      <td>95.86</td>\n",
       "      <td>9.52</td>\n",
       "      <td>0.95</td>\n",
       "      <td>0.09</td>\n",
       "      <td>1.63</td>\n",
       "      <td>6.13</td>\n",
       "      <td>7.85</td>\n",
       "      <td>10</td>\n",
       "      <td>20</td>\n",
       "      <td>1</td>\n",
       "      <td>January</td>\n",
       "      <td>2018</td>\n",
       "      <td>49928</td>\n",
       "      <td>-12.365506</td>\n",
       "      <td>-12.365506</td>\n",
       "      <td>-40.620272</td>\n",
       "    </tr>\n",
       "    <tr>\n",
       "      <th>37</th>\n",
       "      <td>02/01/2018 12:00:00 AM</td>\n",
       "      <td>47995</td>\n",
       "      <td>95.73</td>\n",
       "      <td>9.35</td>\n",
       "      <td>0.95</td>\n",
       "      <td>0.09</td>\n",
       "      <td>1.61</td>\n",
       "      <td>6.01</td>\n",
       "      <td>7.71</td>\n",
       "      <td>10</td>\n",
       "      <td>20</td>\n",
       "      <td>2</td>\n",
       "      <td>February</td>\n",
       "      <td>2018</td>\n",
       "      <td>97923</td>\n",
       "      <td>-9.655961</td>\n",
       "      <td>-6.653571</td>\n",
       "      <td>-39.195584</td>\n",
       "    </tr>\n",
       "    <tr>\n",
       "      <th>38</th>\n",
       "      <td>03/01/2018 12:00:00 AM</td>\n",
       "      <td>46493</td>\n",
       "      <td>95.01</td>\n",
       "      <td>9.59</td>\n",
       "      <td>0.95</td>\n",
       "      <td>0.09</td>\n",
       "      <td>1.86</td>\n",
       "      <td>6.04</td>\n",
       "      <td>7.99</td>\n",
       "      <td>10</td>\n",
       "      <td>20</td>\n",
       "      <td>3</td>\n",
       "      <td>March</td>\n",
       "      <td>2018</td>\n",
       "      <td>144416</td>\n",
       "      <td>-12.640869</td>\n",
       "      <td>-18.324433</td>\n",
       "      <td>-40.239342</td>\n",
       "    </tr>\n",
       "    <tr>\n",
       "      <th>39</th>\n",
       "      <td>04/01/2018 12:00:00 AM</td>\n",
       "      <td>46013</td>\n",
       "      <td>94.19</td>\n",
       "      <td>9.45</td>\n",
       "      <td>0.95</td>\n",
       "      <td>0.09</td>\n",
       "      <td>2.28</td>\n",
       "      <td>5.96</td>\n",
       "      <td>8.33</td>\n",
       "      <td>10</td>\n",
       "      <td>20</td>\n",
       "      <td>4</td>\n",
       "      <td>April</td>\n",
       "      <td>2018</td>\n",
       "      <td>190429</td>\n",
       "      <td>-14.337703</td>\n",
       "      <td>-19.259857</td>\n",
       "      <td>-25.224417</td>\n",
       "    </tr>\n",
       "    <tr>\n",
       "      <th>40</th>\n",
       "      <td>05/01/2018 12:00:00 AM</td>\n",
       "      <td>51202</td>\n",
       "      <td>94.59</td>\n",
       "      <td>8.98</td>\n",
       "      <td>0.95</td>\n",
       "      <td>0.09</td>\n",
       "      <td>2.18</td>\n",
       "      <td>5.85</td>\n",
       "      <td>8.12</td>\n",
       "      <td>10</td>\n",
       "      <td>20</td>\n",
       "      <td>5</td>\n",
       "      <td>May</td>\n",
       "      <td>2018</td>\n",
       "      <td>241631</td>\n",
       "      <td>-14.474774</td>\n",
       "      <td>-14.980739</td>\n",
       "      <td>-55.725191</td>\n",
       "    </tr>\n",
       "    <tr>\n",
       "      <th>41</th>\n",
       "      <td>06/01/2018 12:00:00 AM</td>\n",
       "      <td>51619</td>\n",
       "      <td>97.13</td>\n",
       "      <td>7.47</td>\n",
       "      <td>0.95</td>\n",
       "      <td>0.09</td>\n",
       "      <td>1.12</td>\n",
       "      <td>5.68</td>\n",
       "      <td>6.89</td>\n",
       "      <td>10</td>\n",
       "      <td>20</td>\n",
       "      <td>6</td>\n",
       "      <td>June</td>\n",
       "      <td>2018</td>\n",
       "      <td>293250</td>\n",
       "      <td>-13.331698</td>\n",
       "      <td>-7.547508</td>\n",
       "      <td>-24.451754</td>\n",
       "    </tr>\n",
       "    <tr>\n",
       "      <th>42</th>\n",
       "      <td>07/01/2018 12:00:00 AM</td>\n",
       "      <td>57517</td>\n",
       "      <td>95.97</td>\n",
       "      <td>8.03</td>\n",
       "      <td>0.95</td>\n",
       "      <td>0.09</td>\n",
       "      <td>1.65</td>\n",
       "      <td>5.69</td>\n",
       "      <td>7.43</td>\n",
       "      <td>10</td>\n",
       "      <td>20</td>\n",
       "      <td>7</td>\n",
       "      <td>July</td>\n",
       "      <td>2018</td>\n",
       "      <td>350767</td>\n",
       "      <td>-11.667842</td>\n",
       "      <td>-2.083723</td>\n",
       "      <td>-22.361546</td>\n",
       "    </tr>\n",
       "    <tr>\n",
       "      <th>43</th>\n",
       "      <td>08/01/2018 12:00:00 AM</td>\n",
       "      <td>53815</td>\n",
       "      <td>96.40</td>\n",
       "      <td>7.87</td>\n",
       "      <td>0.95</td>\n",
       "      <td>0.10</td>\n",
       "      <td>1.39</td>\n",
       "      <td>5.75</td>\n",
       "      <td>7.24</td>\n",
       "      <td>10</td>\n",
       "      <td>20</td>\n",
       "      <td>8</td>\n",
       "      <td>August</td>\n",
       "      <td>2018</td>\n",
       "      <td>404582</td>\n",
       "      <td>-10.396942</td>\n",
       "      <td>-1.124442</td>\n",
       "      <td>-18.192090</td>\n",
       "    </tr>\n",
       "    <tr>\n",
       "      <th>44</th>\n",
       "      <td>09/01/2018 12:00:00 AM</td>\n",
       "      <td>52388</td>\n",
       "      <td>95.18</td>\n",
       "      <td>8.61</td>\n",
       "      <td>0.95</td>\n",
       "      <td>0.09</td>\n",
       "      <td>1.84</td>\n",
       "      <td>5.93</td>\n",
       "      <td>7.86</td>\n",
       "      <td>10</td>\n",
       "      <td>20</td>\n",
       "      <td>9</td>\n",
       "      <td>September</td>\n",
       "      <td>2018</td>\n",
       "      <td>456970</td>\n",
       "      <td>-9.478626</td>\n",
       "      <td>-1.698159</td>\n",
       "      <td>-11.586052</td>\n",
       "    </tr>\n",
       "    <tr>\n",
       "      <th>45</th>\n",
       "      <td>10/01/2018 12:00:00 AM</td>\n",
       "      <td>52200</td>\n",
       "      <td>95.76</td>\n",
       "      <td>8.36</td>\n",
       "      <td>0.95</td>\n",
       "      <td>0.10</td>\n",
       "      <td>1.68</td>\n",
       "      <td>5.59</td>\n",
       "      <td>7.37</td>\n",
       "      <td>10</td>\n",
       "      <td>20</td>\n",
       "      <td>10</td>\n",
       "      <td>October</td>\n",
       "      <td>2018</td>\n",
       "      <td>509170</td>\n",
       "      <td>-8.287567</td>\n",
       "      <td>3.651635</td>\n",
       "      <td>-14.501160</td>\n",
       "    </tr>\n",
       "    <tr>\n",
       "      <th>46</th>\n",
       "      <td>11/01/2018 12:00:00 AM</td>\n",
       "      <td>46991</td>\n",
       "      <td>95.51</td>\n",
       "      <td>9.05</td>\n",
       "      <td>0.95</td>\n",
       "      <td>0.11</td>\n",
       "      <td>1.99</td>\n",
       "      <td>4.87</td>\n",
       "      <td>6.97</td>\n",
       "      <td>10</td>\n",
       "      <td>20</td>\n",
       "      <td>11</td>\n",
       "      <td>November</td>\n",
       "      <td>2018</td>\n",
       "      <td>556161</td>\n",
       "      <td>-7.731703</td>\n",
       "      <td>-1.246217</td>\n",
       "      <td>-10.526316</td>\n",
       "    </tr>\n",
       "    <tr>\n",
       "      <th>47</th>\n",
       "      <td>12/01/2018 12:00:00 AM</td>\n",
       "      <td>52353</td>\n",
       "      <td>93.94</td>\n",
       "      <td>10.77</td>\n",
       "      <td>0.95</td>\n",
       "      <td>0.10</td>\n",
       "      <td>2.59</td>\n",
       "      <td>4.79</td>\n",
       "      <td>7.48</td>\n",
       "      <td>10</td>\n",
       "      <td>20</td>\n",
       "      <td>12</td>\n",
       "      <td>December</td>\n",
       "      <td>2018</td>\n",
       "      <td>608514</td>\n",
       "      <td>-6.384910</td>\n",
       "      <td>10.795310</td>\n",
       "      <td>-9.879518</td>\n",
       "    </tr>\n",
       "    <tr>\n",
       "      <th>48</th>\n",
       "      <td>01/01/2019 12:00:00 AM</td>\n",
       "      <td>50282</td>\n",
       "      <td>95.90</td>\n",
       "      <td>10.52</td>\n",
       "      <td>0.95</td>\n",
       "      <td>0.17</td>\n",
       "      <td>1.76</td>\n",
       "      <td>4.68</td>\n",
       "      <td>6.61</td>\n",
       "      <td>10</td>\n",
       "      <td>20</td>\n",
       "      <td>1</td>\n",
       "      <td>January</td>\n",
       "      <td>2019</td>\n",
       "      <td>50282</td>\n",
       "      <td>0.709000</td>\n",
       "      <td>0.709021</td>\n",
       "      <td>-15.796178</td>\n",
       "    </tr>\n",
       "    <tr>\n",
       "      <th>49</th>\n",
       "      <td>02/01/2019 12:00:00 AM</td>\n",
       "      <td>46469</td>\n",
       "      <td>97.68</td>\n",
       "      <td>10.23</td>\n",
       "      <td>0.95</td>\n",
       "      <td>0.18</td>\n",
       "      <td>1.11</td>\n",
       "      <td>4.53</td>\n",
       "      <td>5.82</td>\n",
       "      <td>10</td>\n",
       "      <td>20</td>\n",
       "      <td>2</td>\n",
       "      <td>February</td>\n",
       "      <td>2019</td>\n",
       "      <td>96751</td>\n",
       "      <td>-1.200000</td>\n",
       "      <td>-3.179498</td>\n",
       "      <td>-24.513619</td>\n",
       "    </tr>\n",
       "  </tbody>\n",
       "</table>\n",
       "</div>"
      ],
      "text/plain": [
       "                 MonthYear  Volume  Percent Answered within 20 secs  \\\n",
       "0   01/01/2015 12:00:00 AM   67391                            53.70   \n",
       "1   02/01/2015 12:00:00 AM   61075                            56.70   \n",
       "2   03/01/2015 12:00:00 AM   75868                            49.60   \n",
       "3   04/01/2015 12:00:00 AM   80804                            40.60   \n",
       "4   05/01/2015 12:00:00 AM   88855                            35.60   \n",
       "5   06/01/2015 12:00:00 AM   85945                            61.60   \n",
       "6   07/01/2015 12:00:00 AM   77525                            33.50   \n",
       "7   08/01/2015 12:00:00 AM   90701                            37.20   \n",
       "8   09/01/2015 12:00:00 AM   84897                            48.40   \n",
       "9   10/01/2015 12:00:00 AM   80515                            47.60   \n",
       "10  11/01/2015 12:00:00 AM   65747                            49.50   \n",
       "11  12/01/2015 12:00:00 AM   65111                            53.20   \n",
       "12  01/01/2016 12:00:00 AM   66474                            61.40   \n",
       "13  02/01/2016 12:00:00 AM   62410                            65.60   \n",
       "14  03/01/2016 12:00:00 AM   69989                            68.20   \n",
       "15  04/01/2016 12:00:00 AM   71216                            61.50   \n",
       "16  05/01/2016 12:00:00 AM   72708                            60.20   \n",
       "17  06/01/2016 12:00:00 AM   75193                            56.60   \n",
       "18  07/01/2016 12:00:00 AM   77635                            56.60   \n",
       "19  08/01/2016 12:00:00 AM   73708                            58.70   \n",
       "20  09/01/2016 12:00:00 AM   67821                            63.40   \n",
       "21  10/01/2016 12:00:00 AM   66466                            68.60   \n",
       "22  11/01/2016 12:00:00 AM   55454                            83.50   \n",
       "23  12/01/2016 12:00:00 AM   59483                            84.80   \n",
       "24  01/01/2017 12:00:00 AM   56973                            86.40   \n",
       "25  02/01/2017 12:00:00 AM   51416                            87.20   \n",
       "26  03/01/2017 12:00:00 AM   56924                            85.80   \n",
       "27  04/01/2017 12:00:00 AM   56989                            88.70   \n",
       "28  05/01/2017 12:00:00 AM   60224                            86.20   \n",
       "29  06/01/2017 12:00:00 AM   55833                            93.30   \n",
       "30  07/01/2017 12:00:00 AM   58741                            91.90   \n",
       "31  08/01/2017 12:00:00 AM   54427                            93.60   \n",
       "32  09/01/2017 12:00:00 AM   53293                            92.90   \n",
       "33  10/01/2017 12:00:00 AM   50361                            93.50   \n",
       "34  11/01/2017 12:00:00 AM   47584                            95.15   \n",
       "35  12/01/2017 12:00:00 AM   47252                            94.29   \n",
       "36  01/01/2018 12:00:00 AM   49928                            95.86   \n",
       "37  02/01/2018 12:00:00 AM   47995                            95.73   \n",
       "38  03/01/2018 12:00:00 AM   46493                            95.01   \n",
       "39  04/01/2018 12:00:00 AM   46013                            94.19   \n",
       "40  05/01/2018 12:00:00 AM   51202                            94.59   \n",
       "41  06/01/2018 12:00:00 AM   51619                            97.13   \n",
       "42  07/01/2018 12:00:00 AM   57517                            95.97   \n",
       "43  08/01/2018 12:00:00 AM   53815                            96.40   \n",
       "44  09/01/2018 12:00:00 AM   52388                            95.18   \n",
       "45  10/01/2018 12:00:00 AM   52200                            95.76   \n",
       "46  11/01/2018 12:00:00 AM   46991                            95.51   \n",
       "47  12/01/2018 12:00:00 AM   52353                            93.94   \n",
       "48  01/01/2019 12:00:00 AM   50282                            95.90   \n",
       "49  02/01/2019 12:00:00 AM   46469                            97.68   \n",
       "\n",
       "    Percent Abandoned  Goal  Setup Time (Sec)  Queue (Secs)  Ring(sec)  \\\n",
       "0               29.10  0.95               NaN         35.30       4.30   \n",
       "1               27.70  0.95               NaN         29.40       4.30   \n",
       "2               30.80  0.95               NaN         49.90       4.10   \n",
       "3               32.30  0.95               NaN         49.70       3.80   \n",
       "4               36.10  0.95               NaN         65.90       3.50   \n",
       "5               39.40  0.95               NaN         52.00       3.50   \n",
       "6               39.60  0.95               NaN         95.00       3.50   \n",
       "7               36.20  0.95               NaN         76.30       3.60   \n",
       "8               45.10  0.95               NaN         45.50       3.80   \n",
       "9               31.70  0.95               NaN         54.70       4.00   \n",
       "10              26.30  0.95               NaN         42.80       4.20   \n",
       "11              35.40  0.95               NaN         51.30       8.40   \n",
       "12              32.50  0.95               NaN         24.96       9.14   \n",
       "13              27.80  0.95               NaN         23.29       8.24   \n",
       "14              27.10  0.95               NaN         19.82       7.97   \n",
       "15              29.40  0.95               NaN         26.31       8.33   \n",
       "16              30.40  0.95               NaN         28.11       8.37   \n",
       "17              38.80  0.95               NaN         23.98      15.38   \n",
       "18              33.70  0.95               NaN         24.75      15.14   \n",
       "19              31.20  0.95               NaN         22.11      13.66   \n",
       "20              28.00  0.95               NaN         24.26       8.20   \n",
       "21              24.40  0.95               NaN         18.66       7.57   \n",
       "22              17.10  0.95               NaN          8.02       6.75   \n",
       "23              17.80  0.95               NaN          6.34       7.65   \n",
       "24              16.50  0.95               NaN          5.75       7.47   \n",
       "25              15.60  0.95               NaN          5.32       7.36   \n",
       "26              16.30  0.95               NaN          5.99       7.38   \n",
       "27              13.90  0.95               NaN          4.64       6.50   \n",
       "28              14.30  0.95               NaN          6.84      11.50   \n",
       "29              10.90  0.95               NaN          2.81       6.31   \n",
       "30              10.70  0.95              2.65          0.68       6.24   \n",
       "31               9.50  0.95              0.09          2.53       6.23   \n",
       "32               9.42  0.95              0.09          2.74       6.06   \n",
       "33               9.69  0.95              0.09          2.59       5.94   \n",
       "34               9.14  0.95              0.09          1.66       6.04   \n",
       "35              10.17  0.95              0.09          0.16       8.05   \n",
       "36               9.52  0.95              0.09          1.63       6.13   \n",
       "37               9.35  0.95              0.09          1.61       6.01   \n",
       "38               9.59  0.95              0.09          1.86       6.04   \n",
       "39               9.45  0.95              0.09          2.28       5.96   \n",
       "40               8.98  0.95              0.09          2.18       5.85   \n",
       "41               7.47  0.95              0.09          1.12       5.68   \n",
       "42               8.03  0.95              0.09          1.65       5.69   \n",
       "43               7.87  0.95              0.10          1.39       5.75   \n",
       "44               8.61  0.95              0.09          1.84       5.93   \n",
       "45               8.36  0.95              0.10          1.68       5.59   \n",
       "46               9.05  0.95              0.11          1.99       4.87   \n",
       "47              10.77  0.95              0.10          2.59       4.79   \n",
       "48              10.52  0.95              0.17          1.76       4.68   \n",
       "49              10.23  0.95              0.18          1.11       4.53   \n",
       "\n",
       "    Total Average (Secs)  National Goal (secs)  COM Goal (secs)  Month Order  \\\n",
       "0                  39.60                    10               20            1   \n",
       "1                  33.70                    10               20            2   \n",
       "2                  54.00                    10               20            3   \n",
       "3                  53.50                    10               20            4   \n",
       "4                  69.40                    10               20            5   \n",
       "5                  55.50                    10               20            6   \n",
       "6                  98.50                    10               20            7   \n",
       "7                  79.90                    10               20            8   \n",
       "8                  49.30                    10               20            9   \n",
       "9                  58.70                    10               20           10   \n",
       "10                 47.00                    10               20           11   \n",
       "11                 59.70                    10               20           12   \n",
       "12                 34.10                    10               20            1   \n",
       "13                 31.53                    10               20            2   \n",
       "14                 27.79                    10               20            3   \n",
       "15                 34.64                    10               20            4   \n",
       "16                 36.48                    10               20            5   \n",
       "17                 39.36                    10               20            6   \n",
       "18                 39.89                    10               20            7   \n",
       "19                 35.77                    10               20            8   \n",
       "20                 32.46                    10               20            9   \n",
       "21                 26.23                    10               20           10   \n",
       "22                 14.77                    10               20           11   \n",
       "23                 13.99                    10               20           12   \n",
       "24                 13.22                    10               20            1   \n",
       "25                 12.68                    10               20            2   \n",
       "26                 13.37                    10               20            3   \n",
       "27                 11.14                    10               20            4   \n",
       "28                 18.34                    10               20            5   \n",
       "29                  9.12                    10               20            6   \n",
       "30                  9.57                    10               20            7   \n",
       "31                  8.85                    10               20            8   \n",
       "32                  8.89                    10               20            9   \n",
       "33                  8.62                    10               20           10   \n",
       "34                  7.79                    10               20           11   \n",
       "35                  8.30                    10               20           12   \n",
       "36                  7.85                    10               20            1   \n",
       "37                  7.71                    10               20            2   \n",
       "38                  7.99                    10               20            3   \n",
       "39                  8.33                    10               20            4   \n",
       "40                  8.12                    10               20            5   \n",
       "41                  6.89                    10               20            6   \n",
       "42                  7.43                    10               20            7   \n",
       "43                  7.24                    10               20            8   \n",
       "44                  7.86                    10               20            9   \n",
       "45                  7.37                    10               20           10   \n",
       "46                  6.97                    10               20           11   \n",
       "47                  7.48                    10               20           12   \n",
       "48                  6.61                    10               20            1   \n",
       "49                  5.82                    10               20            2   \n",
       "\n",
       "        Month  Year  Volume YTD  Volume YTD Change  Volume Month YOY Change  \\\n",
       "0     January  2015       67391                NaN                      NaN   \n",
       "1    February  2015      128466                NaN                      NaN   \n",
       "2       March  2015      204334                NaN                      NaN   \n",
       "3       April  2015      285138                NaN                      NaN   \n",
       "4         May  2015      373993                NaN                      NaN   \n",
       "5        June  2015      459938                NaN                      NaN   \n",
       "6        July  2015      537463                NaN                      NaN   \n",
       "7      August  2015      628164                NaN                      NaN   \n",
       "8   September  2015      713061                NaN                      NaN   \n",
       "9     October  2015      793576                NaN                      NaN   \n",
       "10   November  2015      859323                NaN                      NaN   \n",
       "11   December  2015      924434                NaN                      NaN   \n",
       "12    January  2016       66474          -1.360716                -1.360716   \n",
       "13   February  2016      128884           0.325378                 2.185837   \n",
       "14      March  2016      198873          -2.672585                -7.748985   \n",
       "15      April  2016      270089          -5.277795               -11.865749   \n",
       "16        May  2016      342797          -8.341333               -18.172303   \n",
       "17       June  2016      417990          -9.120360               -12.510326   \n",
       "18       July  2016      495625          -7.784350                 0.141890   \n",
       "19     August  2016      569333          -9.365548               -18.735185   \n",
       "20  September  2016      637154         -10.645232               -20.113785   \n",
       "21    October  2016      703620         -11.335524               -17.448923   \n",
       "22   November  2016      759074         -11.666044               -15.655467   \n",
       "23   December  2016      818557         -11.453170                -8.643701   \n",
       "24    January  2017       56973         -14.292806               -14.292806   \n",
       "25   February  2017      108389         -15.901896               -17.615767   \n",
       "26      March  2017      165313         -16.875091               -18.667219   \n",
       "27      April  2017      222302         -17.693057               -19.977252   \n",
       "28        May  2017      282526         -17.582126               -17.170050   \n",
       "29       June  2017      338359         -19.050934               -25.747078   \n",
       "30       July  2017      397100         -19.878941               -24.336961   \n",
       "31     August  2017      451527         -20.691932               -26.158626   \n",
       "32  September  2017      504820         -20.769547               -21.421094   \n",
       "33    October  2017      555181         -21.096473               -24.230434   \n",
       "34   November  2017      602765         -20.592063               -14.191943   \n",
       "35   December  2017      650017         -20.589892               -20.562177   \n",
       "36    January  2018       49928         -12.365506               -12.365506   \n",
       "37   February  2018       97923          -9.655961                -6.653571   \n",
       "38      March  2018      144416         -12.640869               -18.324433   \n",
       "39      April  2018      190429         -14.337703               -19.259857   \n",
       "40        May  2018      241631         -14.474774               -14.980739   \n",
       "41       June  2018      293250         -13.331698                -7.547508   \n",
       "42       July  2018      350767         -11.667842                -2.083723   \n",
       "43     August  2018      404582         -10.396942                -1.124442   \n",
       "44  September  2018      456970          -9.478626                -1.698159   \n",
       "45    October  2018      509170          -8.287567                 3.651635   \n",
       "46   November  2018      556161          -7.731703                -1.246217   \n",
       "47   December  2018      608514          -6.384910                10.795310   \n",
       "48    January  2019       50282           0.709000                 0.709021   \n",
       "49   February  2019       96751          -1.200000                -3.179498   \n",
       "\n",
       "    Total Time YOY Change  \n",
       "0                     NaN  \n",
       "1                     NaN  \n",
       "2                     NaN  \n",
       "3                     NaN  \n",
       "4                     NaN  \n",
       "5                     NaN  \n",
       "6                     NaN  \n",
       "7                     NaN  \n",
       "8                     NaN  \n",
       "9                     NaN  \n",
       "10                    NaN  \n",
       "11                    NaN  \n",
       "12             -13.888889  \n",
       "13              -6.439169  \n",
       "14             -48.537037  \n",
       "15             -35.252336  \n",
       "16             -47.435159  \n",
       "17             -29.081081  \n",
       "18             -59.502538  \n",
       "19             -55.231539  \n",
       "20             -34.158215  \n",
       "21             -55.315162  \n",
       "22             -68.574468  \n",
       "23             -76.566164  \n",
       "24             -61.231672  \n",
       "25             -59.784332  \n",
       "26             -51.889169  \n",
       "27             -67.840647  \n",
       "28             -49.725877  \n",
       "29             -76.829268  \n",
       "30             -76.009025  \n",
       "31             -75.258597  \n",
       "32             -72.612446  \n",
       "33             -67.136866  \n",
       "34             -47.257955  \n",
       "35             -40.671909  \n",
       "36             -40.620272  \n",
       "37             -39.195584  \n",
       "38             -40.239342  \n",
       "39             -25.224417  \n",
       "40             -55.725191  \n",
       "41             -24.451754  \n",
       "42             -22.361546  \n",
       "43             -18.192090  \n",
       "44             -11.586052  \n",
       "45             -14.501160  \n",
       "46             -10.526316  \n",
       "47              -9.879518  \n",
       "48             -15.796178  \n",
       "49             -24.513619  "
      ]
     },
     "execution_count": 82,
     "metadata": {},
     "output_type": "execute_result"
    }
   ],
   "source": [
    "calls"
   ]
  },
  {
   "cell_type": "code",
   "execution_count": 83,
   "metadata": {},
   "outputs": [
    {
     "data": {
      "text/plain": [
       "<matplotlib.axes._subplots.AxesSubplot at 0x1a270182b0>"
      ]
     },
     "execution_count": 83,
     "metadata": {},
     "output_type": "execute_result"
    },
    {
     "data": {
      "image/png": "[encoded data removed]",
      "text/plain": [
       "<Figure size 720x432 with 1 Axes>"
      ]
     },
     "metadata": {
      "needs_background": "light"
     },
     "output_type": "display_data"
    }
   ],
   "source": [
    "calls['Percent Answered within 20 secs'].sort_values().plot.hist(\n",
    "    figsize=(10,6),\n",
    "    color='orange',\n",
    "    fontsize=16,\n",
    "    title=\"Percent Answered Within 20 Seconds\"\n",
    ")"
   ]
  },
  {
   "cell_type": "code",
   "execution_count": 84,
   "metadata": {},
   "outputs": [
    {
     "data": {
      "text/plain": [
       "<matplotlib.axes._subplots.AxesSubplot at 0x1a2738c400>"
      ]
     },
     "execution_count": 84,
     "metadata": {},
     "output_type": "execute_result"
    },
    {
     "data": {
      "image/png": "[encoded data removed]",
      "text/plain": [
       "<Figure size 720x432 with 1 Axes>"
      ]
     },
     "metadata": {
      "needs_background": "light"
     },
     "output_type": "display_data"
    }
   ],
   "source": [
    "calls['Percent Abandoned'].sort_values().plot.hist(\n",
    "    figsize=(10,6),\n",
    "    color='green',\n",
    "    fontsize=16,\n",
    "    title=\"Percent Abandoned\"\n",
    ")"
   ]
  },
  {
   "cell_type": "code",
   "execution_count": 85,
   "metadata": {},
   "outputs": [
    {
     "data": {
      "text/plain": [
       "<matplotlib.axes._subplots.AxesSubplot at 0x1a274e52b0>"
      ]
     },
     "execution_count": 85,
     "metadata": {},
     "output_type": "execute_result"
    },
    {
     "data": {
      "image/png": "[encoded data removed]",
      "text/plain": [
       "<Figure size 720x432 with 1 Axes>"
      ]
     },
     "metadata": {
      "needs_background": "light"
     },
     "output_type": "display_data"
    }
   ],
   "source": [
    "calls['Total Average (Secs)'].sort_values().plot.hist(\n",
    "    figsize=(10,6),\n",
    "    color='red',\n",
    "    fontsize=16,\n",
    "    title=\"Total Average in Seconds\"\n",
    ")"
   ]
  },
  {
   "cell_type": "code",
   "execution_count": 86,
   "metadata": {},
   "outputs": [
    {
     "data": {
      "text/plain": [
       "<matplotlib.axes._subplots.AxesSubplot at 0x1a274d9198>"
      ]
     },
     "execution_count": 86,
     "metadata": {},
     "output_type": "execute_result"
    },
    {
     "data": {
      "image/png": "[encoded data removed]",
      "text/plain": [
       "<Figure size 720x432 with 1 Axes>"
      ]
     },
     "metadata": {
      "needs_background": "light"
     },
     "output_type": "display_data"
    }
   ],
   "source": [
    "calls.plot.scatter(x='Ring(sec)', y='Total Average (Secs)', \n",
    "    figsize=(10,6),\n",
    "    color='purple',\n",
    "    fontsize=16,\n",
    "    title=\"Ring time versus Call Average\"\n",
    ")"
   ]
  },
  {
   "cell_type": "code",
   "execution_count": 87,
   "metadata": {},
   "outputs": [
    {
     "data": {
      "text/plain": [
       "<matplotlib.axes._subplots.AxesSubplot at 0x1a256d5e48>"
      ]
     },
     "execution_count": 87,
     "metadata": {},
     "output_type": "execute_result"
    },
    {
     "data": {
      "image/png": "[encoded data removed]",
      "text/plain": [
       "<Figure size 720x432 with 1 Axes>"
      ]
     },
     "metadata": {
      "needs_background": "light"
     },
     "output_type": "display_data"
    }
   ],
   "source": [
    "calls.plot.scatter(x='Total Average (Secs)', y='Percent Abandoned', \n",
    "    figsize=(10,6),\n",
    "    color='red',\n",
    "    fontsize=16,\n",
    "    title=\"Call Length vs Percent Abandoned\"\n",
    ")"
   ]
  },
  {
   "cell_type": "code",
   "execution_count": 88,
   "metadata": {
    "scrolled": true
   },
   "outputs": [
    {
     "data": {
      "text/plain": [
       "<bound method Series.unique of February     5\n",
       "January      5\n",
       "July         4\n",
       "November     4\n",
       "October      4\n",
       "May          4\n",
       "June         4\n",
       "August       4\n",
       "September    4\n",
       "April        4\n",
       "March        4\n",
       "December     4\n",
       "Name: Month, dtype: int64>"
      ]
     },
     "execution_count": 88,
     "metadata": {},
     "output_type": "execute_result"
    }
   ],
   "source": [
    "calls.Month.value_counts().unique"
   ]
  },
  {
   "cell_type": "code",
   "execution_count": 89,
   "metadata": {},
   "outputs": [],
   "source": [
    "import seaborn as sns"
   ]
  },
  {
   "cell_type": "code",
   "execution_count": 90,
   "metadata": {},
   "outputs": [
    {
     "data": {
      "text/plain": [
       "<matplotlib.axes._subplots.AxesSubplot at 0x1a25667080>"
      ]
     },
     "execution_count": 90,
     "metadata": {},
     "output_type": "execute_result"
    },
    {
     "data": {
      "image/png": "[encoded data removed]",
      "text/plain": [
       "<Figure size 432x288 with 1 Axes>"
      ]
     },
     "metadata": {
      "needs_background": "light"
     },
     "output_type": "display_data"
    }
   ],
   "source": [
    "sns.kdeplot(calls['Ring(sec)'])"
   ]
  },
  {
   "cell_type": "code",
   "execution_count": 91,
   "metadata": {},
   "outputs": [
    {
     "data": {
      "text/plain": [
       "<matplotlib.axes._subplots.AxesSubplot at 0x1a27911d68>"
      ]
     },
     "execution_count": 91,
     "metadata": {},
     "output_type": "execute_result"
    },
    {
     "data": {
      "image/png": "[encoded data removed]",
      "text/plain": [
       "<Figure size 432x288 with 1 Axes>"
      ]
     },
     "metadata": {
      "needs_background": "light"
     },
     "output_type": "display_data"
    }
   ],
   "source": [
    "sns.distplot(calls['Total Average (Secs)'], bins=6, kde=False)"
   ]
  },
  {
   "cell_type": "code",
   "execution_count": 92,
   "metadata": {},
   "outputs": [
    {
     "data": {
      "text/plain": [
       "<seaborn.axisgrid.JointGrid at 0x1a27911128>"
      ]
     },
     "execution_count": 92,
     "metadata": {},
     "output_type": "execute_result"
    },
    {
     "data": {
      "image/png": "[encoded data removed]",
      "text/plain": [
       "<Figure size 432x432 with 3 Axes>"
      ]
     },
     "metadata": {
      "needs_background": "light"
     },
     "output_type": "display_data"
    }
   ],
   "source": [
    "sns.jointplot(x='Ring(sec)', y='Total Average (Secs)', data=calls)"
   ]
  },
  {
   "cell_type": "code",
   "execution_count": 93,
   "metadata": {},
   "outputs": [
    {
     "data": {
      "text/plain": [
       "<matplotlib.axes._subplots.AxesSubplot at 0x1a27ac39e8>"
      ]
     },
     "execution_count": 93,
     "metadata": {},
     "output_type": "execute_result"
    },
    {
     "data": {
      "image/png": "[encoded data removed]",
      "text/plain": [
       "<Figure size 432x288 with 1 Axes>"
      ]
     },
     "metadata": {
      "needs_background": "light"
     },
     "output_type": "display_data"
    }
   ],
   "source": [
    "df = calls[calls.Month.isin(calls.Month.value_counts().head(6).index)]\n",
    "sns.boxplot(\n",
    "    x='Month',\n",
    "    y='Volume',\n",
    "    data=df\n",
    ")"
   ]
  },
  {
   "cell_type": "code",
   "execution_count": 98,
   "metadata": {
    "scrolled": true
   },
   "outputs": [],
   "source": [
    "firsthalf = calls[calls['Month'].isin(['January','February','March','April','May','June'])]"
   ]
  },
  {
   "cell_type": "code",
   "execution_count": 99,
   "metadata": {},
   "outputs": [],
   "source": [
    "secondhalf = calls[calls['Month'].isin(['July','August','September','October','November','December'])]"
   ]
  },
  {
   "cell_type": "code",
   "execution_count": 129,
   "metadata": {
    "scrolled": false
   },
   "outputs": [
    {
     "name": "stderr",
     "output_type": "stream",
     "text": [
      "/Users/zachcornelison/anaconda3/lib/python3.7/site-packages/seaborn/axisgrid.py:715: UserWarning: Using the violinplot function without specifying `order` is likely to produce an incorrect plot.\n",
      "  warnings.warn(warning)\n"
     ]
    },
    {
     "data": {
      "text/plain": [
       "<seaborn.axisgrid.FacetGrid at 0x1a2d477dd8>"
      ]
     },
     "execution_count": 129,
     "metadata": {},
     "output_type": "execute_result"
    },
    {
     "data": {
      "image/png": "[encoded data removed]",
      "text/plain": [
       "<Figure size 864x648 with 12 Axes>"
      ]
     },
     "metadata": {
      "needs_background": "light"
     },
     "output_type": "display_data"
    }
   ],
   "source": [
    "g = sns.FacetGrid(calls, col=\"Month\", col_wrap = 4)\n",
    "g.map(sns.violinplot, 'Ring(sec)')"
   ]
  },
  {
   "cell_type": "code",
   "execution_count": 131,
   "metadata": {},
   "outputs": [
    {
     "data": {
      "text/plain": [
       "<seaborn.axisgrid.PairGrid at 0x1a2da5a860>"
      ]
     },
     "execution_count": 131,
     "metadata": {},
     "output_type": "execute_result"
    },
    {
     "data": {
      "image/png": "[encoded data removed]",
      "text/plain": [
       "<Figure size 540x540 with 12 Axes>"
      ]
     },
     "metadata": {
      "needs_background": "light"
     },
     "output_type": "display_data"
    }
   ],
   "source": [
    "sns.pairplot(calls[['Ring(sec)','Total Average (Secs)','Percent Abandoned']])"
   ]
  },
  {
   "cell_type": "code",
   "execution_count": 139,
   "metadata": {},
   "outputs": [
    {
     "data": {
      "text/plain": [
       "<seaborn.axisgrid.FacetGrid at 0x1a2e74a390>"
      ]
     },
     "execution_count": 139,
     "metadata": {},
     "output_type": "execute_result"
    },
    {
     "data": {
      "image/png": "[encoded data removed]",
      "text/plain": [
       "<Figure size 440.75x360 with 1 Axes>"
      ]
     },
     "metadata": {
      "needs_background": "light"
     },
     "output_type": "display_data"
    }
   ],
   "source": [
    "sns.lmplot(x='Total Average (Secs)', y='Percent Abandoned', hue='Month', \n",
    "           data=firsthalf, \n",
    "           fit_reg=False)"
   ]
  },
  {
   "cell_type": "code",
   "execution_count": 141,
   "metadata": {},
   "outputs": [
    {
     "data": {
      "text/html": [
       "        <script type=\"text/javascript\">\n",
       "        window.PlotlyConfig = {MathJaxConfig: 'local'};\n",
       "        if (window.MathJax) {MathJax.Hub.Config({SVG: {font: \"STIX-Web\"}});}\n",
       "        if (typeof require !== 'undefined') {\n",
       "        require.undef(\"plotly\");\n",
       "        requirejs.config({\n",
       "            paths: {\n",
       "                'plotly': ['https://cdn.plot.ly/plotly-latest.min']\n",
       "            }\n",
       "        });\n",
       "        require(['plotly'], function(Plotly) {\n",
       "            window._Plotly = Plotly;\n",
       "        });\n",
       "        }\n",
       "        </script>\n",
       "        "
      ]
     },
     "metadata": {},
     "output_type": "display_data"
    }
   ],
   "source": [
    "from plotly.offline import init_notebook_mode, iplot\n",
    "init_notebook_mode(connected=True)"
   ]
  },
  {
   "cell_type": "code",
   "execution_count": 142,
   "metadata": {},
   "outputs": [
    {
     "data": {
      "application/vnd.plotly.v1+json": {
       "config": {
        "linkText": "Export to plot.ly",
        "plotlyServerURL": "https://plot.ly",
        "responsive": true,
        "showLink": false
       },
       "data": [
        {
         "mode": "markers",
         "type": "scatter",
         "uid": "74f99e6d-5a18-42e8-846a-2e3046466adb",
         "x": [
          4.3,
          4.3,
          4.1,
          3.8,
          3.5,
          3.5,
          3.5,
          3.6,
          3.8,
          4,
          4.2,
          8.4,
          9.14,
          8.24,
          7.97,
          8.33,
          8.37,
          15.38,
          15.14,
          13.66,
          8.2,
          7.57,
          6.75,
          7.65,
          7.47,
          7.36,
          7.38,
          6.5,
          11.5,
          6.31,
          6.24,
          6.23,
          6.06,
          5.94,
          6.04,
          8.05,
          6.13,
          6.01,
          6.04,
          5.96,
          5.85,
          5.68,
          5.69,
          5.75,
          5.93,
          5.59,
          4.87,
          4.79,
          4.68,
          4.53
         ],
         "y": [
          39.6,
          33.7,
          54,
          53.5,
          69.4,
          55.5,
          98.5,
          79.9,
          49.3,
          58.7,
          47,
          59.7,
          34.1,
          31.53,
          27.79,
          34.64,
          36.48,
          39.36,
          39.89,
          35.77,
          32.46,
          26.23,
          14.77,
          13.99,
          13.22,
          12.68,
          13.37,
          11.14,
          18.34,
          9.12,
          9.57,
          8.85,
          8.89,
          8.62,
          7.79,
          8.3,
          7.85,
          7.71,
          7.99,
          8.33,
          8.12,
          6.89,
          7.43,
          7.24,
          7.86,
          7.37,
          6.97,
          7.48,
          6.61,
          5.82
         ]
        }
       ],
       "layout": {}
      },
      "text/html": [
       "<div>\n",
       "        \n",
       "        \n",
       "            <div id=\"aa122711-cd78-469b-97ef-8e7b44c1ae22\" class=\"plotly-graph-div\" style=\"height:525px; width:100%;\"></div>\n",
       "            <script type=\"text/javascript\">\n",
       "                require([\"plotly\"], function(Plotly) {\n",
       "                    window.PLOTLYENV=window.PLOTLYENV || {};\n",
       "                    window.PLOTLYENV.BASE_URL='https://plot.ly';\n",
       "                    \n",
       "                if (document.getElementById(\"aa122711-cd78-469b-97ef-8e7b44c1ae22\")) {\n",
       "                    Plotly.newPlot(\n",
       "                        'aa122711-cd78-469b-97ef-8e7b44c1ae22',\n",
       "                        [{\"mode\": \"markers\", \"type\": \"scatter\", \"uid\": \"0c6c2c83-675f-4557-a34c-d400247dd206\", \"x\": [4.3, 4.3, 4.1, 3.8, 3.5, 3.5, 3.5, 3.6, 3.8, 4.0, 4.2, 8.4, 9.14, 8.24, 7.97, 8.33, 8.37, 15.38, 15.14, 13.66, 8.2, 7.57, 6.75, 7.65, 7.47, 7.36, 7.38, 6.5, 11.5, 6.31, 6.24, 6.23, 6.06, 5.94, 6.04, 8.05, 6.13, 6.01, 6.04, 5.96, 5.85, 5.68, 5.69, 5.75, 5.93, 5.59, 4.87, 4.79, 4.68, 4.53], \"y\": [39.6, 33.7, 54.0, 53.5, 69.4, 55.5, 98.5, 79.9, 49.3, 58.7, 47.0, 59.7, 34.1, 31.53, 27.79, 34.64, 36.48, 39.36, 39.89, 35.77, 32.46, 26.23, 14.77, 13.99, 13.22, 12.68, 13.37, 11.14, 18.34, 9.12, 9.57, 8.85, 8.89, 8.62, 7.79, 8.3, 7.85, 7.71, 7.99, 8.33, 8.12, 6.89, 7.43, 7.24, 7.86, 7.37, 6.97, 7.48, 6.61, 5.82]}],\n",
       "                        {},\n",
       "                        {\"showLink\": false, \"linkText\": \"Export to plot.ly\", \"plotlyServerURL\": \"https://plot.ly\", \"responsive\": true}\n",
       "                    ).then(function(){\n",
       "                            \n",
       "var gd = document.getElementById('aa122711-cd78-469b-97ef-8e7b44c1ae22');\n",
       "var x = new MutationObserver(function (mutations, observer) {{\n",
       "        var display = window.getComputedStyle(gd).display;\n",
       "        if (!display || display === 'none') {{\n",
       "            console.log([gd, 'removed!']);\n",
       "            Plotly.purge(gd);\n",
       "            observer.disconnect();\n",
       "        }}\n",
       "}});\n",
       "\n",
       "// Listen for the removal of the full notebook cells\n",
       "var notebookContainer = gd.closest('#notebook-container');\n",
       "if (notebookContainer) {{\n",
       "    x.observe(notebookContainer, {childList: true});\n",
       "}}\n",
       "\n",
       "// Listen for the clearing of the current output cell\n",
       "var outputEl = gd.closest('.output');\n",
       "if (outputEl) {{\n",
       "    x.observe(outputEl, {childList: true});\n",
       "}}\n",
       "\n",
       "                        })\n",
       "                };\n",
       "                });\n",
       "            </script>\n",
       "        </div>"
      ]
     },
     "metadata": {},
     "output_type": "display_data"
    }
   ],
   "source": [
    "import plotly.graph_objs as go\n",
    "\n",
    "iplot([go.Scatter(x=calls['Ring(sec)'], y=calls['Total Average (Secs)'], mode='markers')])"
   ]
  },
  {
   "cell_type": "code",
   "execution_count": 143,
   "metadata": {},
   "outputs": [],
   "source": [
    "from plotnine import *"
   ]
  },
  {
   "cell_type": "code",
   "execution_count": 152,
   "metadata": {},
   "outputs": [
    {
     "data": {
      "text/plain": [
       "array(['MonthYear', 'Volume', 'Percent Answered within 20 secs',\n",
       "       'Percent Abandoned', 'Goal', 'Setup Time (Sec)', 'Queue (Secs)',\n",
       "       'Ring(sec)', 'Total Average (Secs)', 'National Goal (secs)',\n",
       "       'COM Goal (secs)', 'Month Order', 'Month', 'Year', 'Volume YTD',\n",
       "       'Volume YTD Change', 'Volume Month YOY Change',\n",
       "       'Total Time YOY Change'], dtype=object)"
      ]
     },
     "execution_count": 152,
     "metadata": {},
     "output_type": "execute_result"
    }
   ],
   "source": [
    "calls.columns.values"
   ]
  },
  {
   "cell_type": "code",
   "execution_count": 190,
   "metadata": {},
   "outputs": [
    {
     "name": "stderr",
     "output_type": "stream",
     "text": [
      "/Users/zachcornelison/anaconda3/lib/python3.7/site-packages/plotnine/stats/smoothers.py:146: UserWarning:\n",
      "\n",
      "Confidence intervals are not yet implementedfor lowess smoothings.\n",
      "\n"
     ]
    },
    {
     "data": {
      "image/png": "[encoded data removed]",
      "text/plain": [
       "<Figure size 640x480 with 1 Axes>"
      ]
     },
     "metadata": {},
     "output_type": "display_data"
    },
    {
     "data": {
      "text/plain": [
       "<ggplot: (7575785273)>"
      ]
     },
     "execution_count": 190,
     "metadata": {},
     "output_type": "execute_result"
    }
   ],
   "source": [
    "(ggplot(calls)\n",
    " + aes('Total Average (Secs)', 'Percent Abandoned')\n",
    " + geom_point()\n",
    " + stat_smooth()\n",
    " + aes(color='Total Average (Secs)')\n",
    " #+ facet_wrap('~Month')\n",
    " + ggtitle(\"Call Length versus Percent Abandoned\")\n",
    ")"
   ]
  },
  {
   "cell_type": "code",
   "execution_count": 189,
   "metadata": {},
   "outputs": [
    {
     "data": {
      "image/png": "[encoded data removed]",
      "text/plain": [
       "<Figure size 640x480 with 1 Axes>"
      ]
     },
     "metadata": {},
     "output_type": "display_data"
    },
    {
     "data": {
      "text/plain": [
       "<ggplot: (7575566014)>"
      ]
     },
     "execution_count": 189,
     "metadata": {},
     "output_type": "execute_result"
    }
   ],
   "source": [
    "(ggplot(calls)\n",
    "     + aes('Total Average (Secs)', 'Percent Abandoned')\n",
    "     + geom_bin2d(bins=20)\n",
    ")"
   ]
  },
  {
   "cell_type": "code",
   "execution_count": 191,
   "metadata": {},
   "outputs": [],
   "source": [
    "import numpy as np"
   ]
  },
  {
   "cell_type": "code",
   "execution_count": 192,
   "metadata": {},
   "outputs": [
    {
     "data": {
      "text/html": [
       "<div>\n",
       "<style scoped>\n",
       "    .dataframe tbody tr th:only-of-type {\n",
       "        vertical-align: middle;\n",
       "    }\n",
       "\n",
       "    .dataframe tbody tr th {\n",
       "        vertical-align: top;\n",
       "    }\n",
       "\n",
       "    .dataframe thead th {\n",
       "        text-align: right;\n",
       "    }\n",
       "</style>\n",
       "<table border=\"1\" class=\"dataframe\">\n",
       "  <thead>\n",
       "    <tr style=\"text-align: right;\">\n",
       "      <th></th>\n",
       "      <th>MonthYear</th>\n",
       "      <th>Volume</th>\n",
       "      <th>Percent Answered within 20 secs</th>\n",
       "      <th>Percent Abandoned</th>\n",
       "      <th>Goal</th>\n",
       "      <th>Setup Time (Sec)</th>\n",
       "      <th>Queue (Secs)</th>\n",
       "      <th>Ring(sec)</th>\n",
       "      <th>Total Average (Secs)</th>\n",
       "      <th>National Goal (secs)</th>\n",
       "      <th>COM Goal (secs)</th>\n",
       "      <th>Month Order</th>\n",
       "      <th>Month</th>\n",
       "      <th>Year</th>\n",
       "      <th>Volume YTD</th>\n",
       "      <th>Volume YTD Change</th>\n",
       "      <th>Volume Month YOY Change</th>\n",
       "      <th>Total Time YOY Change</th>\n",
       "    </tr>\n",
       "  </thead>\n",
       "  <tbody>\n",
       "    <tr>\n",
       "      <th>0</th>\n",
       "      <td>01/01/2015 12:00:00 AM</td>\n",
       "      <td>67391</td>\n",
       "      <td>53.7</td>\n",
       "      <td>29.1</td>\n",
       "      <td>0.95</td>\n",
       "      <td>NaN</td>\n",
       "      <td>35.3</td>\n",
       "      <td>4.3</td>\n",
       "      <td>39.6</td>\n",
       "      <td>10</td>\n",
       "      <td>20</td>\n",
       "      <td>1</td>\n",
       "      <td>January</td>\n",
       "      <td>2015</td>\n",
       "      <td>67391</td>\n",
       "      <td>NaN</td>\n",
       "      <td>NaN</td>\n",
       "      <td>NaN</td>\n",
       "    </tr>\n",
       "    <tr>\n",
       "      <th>1</th>\n",
       "      <td>02/01/2015 12:00:00 AM</td>\n",
       "      <td>61075</td>\n",
       "      <td>56.7</td>\n",
       "      <td>27.7</td>\n",
       "      <td>0.95</td>\n",
       "      <td>NaN</td>\n",
       "      <td>29.4</td>\n",
       "      <td>4.3</td>\n",
       "      <td>33.7</td>\n",
       "      <td>10</td>\n",
       "      <td>20</td>\n",
       "      <td>2</td>\n",
       "      <td>February</td>\n",
       "      <td>2015</td>\n",
       "      <td>128466</td>\n",
       "      <td>NaN</td>\n",
       "      <td>NaN</td>\n",
       "      <td>NaN</td>\n",
       "    </tr>\n",
       "    <tr>\n",
       "      <th>2</th>\n",
       "      <td>03/01/2015 12:00:00 AM</td>\n",
       "      <td>75868</td>\n",
       "      <td>49.6</td>\n",
       "      <td>30.8</td>\n",
       "      <td>0.95</td>\n",
       "      <td>NaN</td>\n",
       "      <td>49.9</td>\n",
       "      <td>4.1</td>\n",
       "      <td>54.0</td>\n",
       "      <td>10</td>\n",
       "      <td>20</td>\n",
       "      <td>3</td>\n",
       "      <td>March</td>\n",
       "      <td>2015</td>\n",
       "      <td>204334</td>\n",
       "      <td>NaN</td>\n",
       "      <td>NaN</td>\n",
       "      <td>NaN</td>\n",
       "    </tr>\n",
       "    <tr>\n",
       "      <th>3</th>\n",
       "      <td>04/01/2015 12:00:00 AM</td>\n",
       "      <td>80804</td>\n",
       "      <td>40.6</td>\n",
       "      <td>32.3</td>\n",
       "      <td>0.95</td>\n",
       "      <td>NaN</td>\n",
       "      <td>49.7</td>\n",
       "      <td>3.8</td>\n",
       "      <td>53.5</td>\n",
       "      <td>10</td>\n",
       "      <td>20</td>\n",
       "      <td>4</td>\n",
       "      <td>April</td>\n",
       "      <td>2015</td>\n",
       "      <td>285138</td>\n",
       "      <td>NaN</td>\n",
       "      <td>NaN</td>\n",
       "      <td>NaN</td>\n",
       "    </tr>\n",
       "    <tr>\n",
       "      <th>4</th>\n",
       "      <td>05/01/2015 12:00:00 AM</td>\n",
       "      <td>88855</td>\n",
       "      <td>35.6</td>\n",
       "      <td>36.1</td>\n",
       "      <td>0.95</td>\n",
       "      <td>NaN</td>\n",
       "      <td>65.9</td>\n",
       "      <td>3.5</td>\n",
       "      <td>69.4</td>\n",
       "      <td>10</td>\n",
       "      <td>20</td>\n",
       "      <td>5</td>\n",
       "      <td>May</td>\n",
       "      <td>2015</td>\n",
       "      <td>373993</td>\n",
       "      <td>NaN</td>\n",
       "      <td>NaN</td>\n",
       "      <td>NaN</td>\n",
       "    </tr>\n",
       "  </tbody>\n",
       "</table>\n",
       "</div>"
      ],
      "text/plain": [
       "                MonthYear  Volume  Percent Answered within 20 secs  \\\n",
       "0  01/01/2015 12:00:00 AM   67391                             53.7   \n",
       "1  02/01/2015 12:00:00 AM   61075                             56.7   \n",
       "2  03/01/2015 12:00:00 AM   75868                             49.6   \n",
       "3  04/01/2015 12:00:00 AM   80804                             40.6   \n",
       "4  05/01/2015 12:00:00 AM   88855                             35.6   \n",
       "\n",
       "   Percent Abandoned  Goal  Setup Time (Sec)  Queue (Secs)  Ring(sec)  \\\n",
       "0               29.1  0.95               NaN          35.3        4.3   \n",
       "1               27.7  0.95               NaN          29.4        4.3   \n",
       "2               30.8  0.95               NaN          49.9        4.1   \n",
       "3               32.3  0.95               NaN          49.7        3.8   \n",
       "4               36.1  0.95               NaN          65.9        3.5   \n",
       "\n",
       "   Total Average (Secs)  National Goal (secs)  COM Goal (secs)  Month Order  \\\n",
       "0                  39.6                    10               20            1   \n",
       "1                  33.7                    10               20            2   \n",
       "2                  54.0                    10               20            3   \n",
       "3                  53.5                    10               20            4   \n",
       "4                  69.4                    10               20            5   \n",
       "\n",
       "      Month  Year  Volume YTD  Volume YTD Change  Volume Month YOY Change  \\\n",
       "0   January  2015       67391                NaN                      NaN   \n",
       "1  February  2015      128466                NaN                      NaN   \n",
       "2     March  2015      204334                NaN                      NaN   \n",
       "3     April  2015      285138                NaN                      NaN   \n",
       "4       May  2015      373993                NaN                      NaN   \n",
       "\n",
       "   Total Time YOY Change  \n",
       "0                    NaN  \n",
       "1                    NaN  \n",
       "2                    NaN  \n",
       "3                    NaN  \n",
       "4                    NaN  "
      ]
     },
     "execution_count": 192,
     "metadata": {},
     "output_type": "execute_result"
    }
   ],
   "source": [
    "calls.head()"
   ]
  },
  {
   "cell_type": "code",
   "execution_count": 193,
   "metadata": {},
   "outputs": [],
   "source": [
    "calls = calls.set_index('MonthYear')"
   ]
  },
  {
   "cell_type": "code",
   "execution_count": 194,
   "metadata": {},
   "outputs": [
    {
     "data": {
      "text/html": [
       "<div>\n",
       "<style scoped>\n",
       "    .dataframe tbody tr th:only-of-type {\n",
       "        vertical-align: middle;\n",
       "    }\n",
       "\n",
       "    .dataframe tbody tr th {\n",
       "        vertical-align: top;\n",
       "    }\n",
       "\n",
       "    .dataframe thead th {\n",
       "        text-align: right;\n",
       "    }\n",
       "</style>\n",
       "<table border=\"1\" class=\"dataframe\">\n",
       "  <thead>\n",
       "    <tr style=\"text-align: right;\">\n",
       "      <th></th>\n",
       "      <th>Volume</th>\n",
       "      <th>Percent Answered within 20 secs</th>\n",
       "      <th>Percent Abandoned</th>\n",
       "      <th>Goal</th>\n",
       "      <th>Setup Time (Sec)</th>\n",
       "      <th>Queue (Secs)</th>\n",
       "      <th>Ring(sec)</th>\n",
       "      <th>Total Average (Secs)</th>\n",
       "      <th>National Goal (secs)</th>\n",
       "      <th>COM Goal (secs)</th>\n",
       "      <th>Month Order</th>\n",
       "      <th>Month</th>\n",
       "      <th>Year</th>\n",
       "      <th>Volume YTD</th>\n",
       "      <th>Volume YTD Change</th>\n",
       "      <th>Volume Month YOY Change</th>\n",
       "      <th>Total Time YOY Change</th>\n",
       "    </tr>\n",
       "    <tr>\n",
       "      <th>MonthYear</th>\n",
       "      <th></th>\n",
       "      <th></th>\n",
       "      <th></th>\n",
       "      <th></th>\n",
       "      <th></th>\n",
       "      <th></th>\n",
       "      <th></th>\n",
       "      <th></th>\n",
       "      <th></th>\n",
       "      <th></th>\n",
       "      <th></th>\n",
       "      <th></th>\n",
       "      <th></th>\n",
       "      <th></th>\n",
       "      <th></th>\n",
       "      <th></th>\n",
       "      <th></th>\n",
       "    </tr>\n",
       "  </thead>\n",
       "  <tbody>\n",
       "    <tr>\n",
       "      <th>01/01/2015 12:00:00 AM</th>\n",
       "      <td>67391</td>\n",
       "      <td>53.7</td>\n",
       "      <td>29.1</td>\n",
       "      <td>0.95</td>\n",
       "      <td>NaN</td>\n",
       "      <td>35.3</td>\n",
       "      <td>4.3</td>\n",
       "      <td>39.6</td>\n",
       "      <td>10</td>\n",
       "      <td>20</td>\n",
       "      <td>1</td>\n",
       "      <td>January</td>\n",
       "      <td>2015</td>\n",
       "      <td>67391</td>\n",
       "      <td>NaN</td>\n",
       "      <td>NaN</td>\n",
       "      <td>NaN</td>\n",
       "    </tr>\n",
       "    <tr>\n",
       "      <th>02/01/2015 12:00:00 AM</th>\n",
       "      <td>61075</td>\n",
       "      <td>56.7</td>\n",
       "      <td>27.7</td>\n",
       "      <td>0.95</td>\n",
       "      <td>NaN</td>\n",
       "      <td>29.4</td>\n",
       "      <td>4.3</td>\n",
       "      <td>33.7</td>\n",
       "      <td>10</td>\n",
       "      <td>20</td>\n",
       "      <td>2</td>\n",
       "      <td>February</td>\n",
       "      <td>2015</td>\n",
       "      <td>128466</td>\n",
       "      <td>NaN</td>\n",
       "      <td>NaN</td>\n",
       "      <td>NaN</td>\n",
       "    </tr>\n",
       "    <tr>\n",
       "      <th>03/01/2015 12:00:00 AM</th>\n",
       "      <td>75868</td>\n",
       "      <td>49.6</td>\n",
       "      <td>30.8</td>\n",
       "      <td>0.95</td>\n",
       "      <td>NaN</td>\n",
       "      <td>49.9</td>\n",
       "      <td>4.1</td>\n",
       "      <td>54.0</td>\n",
       "      <td>10</td>\n",
       "      <td>20</td>\n",
       "      <td>3</td>\n",
       "      <td>March</td>\n",
       "      <td>2015</td>\n",
       "      <td>204334</td>\n",
       "      <td>NaN</td>\n",
       "      <td>NaN</td>\n",
       "      <td>NaN</td>\n",
       "    </tr>\n",
       "    <tr>\n",
       "      <th>04/01/2015 12:00:00 AM</th>\n",
       "      <td>80804</td>\n",
       "      <td>40.6</td>\n",
       "      <td>32.3</td>\n",
       "      <td>0.95</td>\n",
       "      <td>NaN</td>\n",
       "      <td>49.7</td>\n",
       "      <td>3.8</td>\n",
       "      <td>53.5</td>\n",
       "      <td>10</td>\n",
       "      <td>20</td>\n",
       "      <td>4</td>\n",
       "      <td>April</td>\n",
       "      <td>2015</td>\n",
       "      <td>285138</td>\n",
       "      <td>NaN</td>\n",
       "      <td>NaN</td>\n",
       "      <td>NaN</td>\n",
       "    </tr>\n",
       "    <tr>\n",
       "      <th>05/01/2015 12:00:00 AM</th>\n",
       "      <td>88855</td>\n",
       "      <td>35.6</td>\n",
       "      <td>36.1</td>\n",
       "      <td>0.95</td>\n",
       "      <td>NaN</td>\n",
       "      <td>65.9</td>\n",
       "      <td>3.5</td>\n",
       "      <td>69.4</td>\n",
       "      <td>10</td>\n",
       "      <td>20</td>\n",
       "      <td>5</td>\n",
       "      <td>May</td>\n",
       "      <td>2015</td>\n",
       "      <td>373993</td>\n",
       "      <td>NaN</td>\n",
       "      <td>NaN</td>\n",
       "      <td>NaN</td>\n",
       "    </tr>\n",
       "  </tbody>\n",
       "</table>\n",
       "</div>"
      ],
      "text/plain": [
       "                        Volume  Percent Answered within 20 secs  \\\n",
       "MonthYear                                                         \n",
       "01/01/2015 12:00:00 AM   67391                             53.7   \n",
       "02/01/2015 12:00:00 AM   61075                             56.7   \n",
       "03/01/2015 12:00:00 AM   75868                             49.6   \n",
       "04/01/2015 12:00:00 AM   80804                             40.6   \n",
       "05/01/2015 12:00:00 AM   88855                             35.6   \n",
       "\n",
       "                        Percent Abandoned  Goal  Setup Time (Sec)  \\\n",
       "MonthYear                                                           \n",
       "01/01/2015 12:00:00 AM               29.1  0.95               NaN   \n",
       "02/01/2015 12:00:00 AM               27.7  0.95               NaN   \n",
       "03/01/2015 12:00:00 AM               30.8  0.95               NaN   \n",
       "04/01/2015 12:00:00 AM               32.3  0.95               NaN   \n",
       "05/01/2015 12:00:00 AM               36.1  0.95               NaN   \n",
       "\n",
       "                        Queue (Secs)  Ring(sec)  Total Average (Secs)  \\\n",
       "MonthYear                                                               \n",
       "01/01/2015 12:00:00 AM          35.3        4.3                  39.6   \n",
       "02/01/2015 12:00:00 AM          29.4        4.3                  33.7   \n",
       "03/01/2015 12:00:00 AM          49.9        4.1                  54.0   \n",
       "04/01/2015 12:00:00 AM          49.7        3.8                  53.5   \n",
       "05/01/2015 12:00:00 AM          65.9        3.5                  69.4   \n",
       "\n",
       "                        National Goal (secs)  COM Goal (secs)  Month Order  \\\n",
       "MonthYear                                                                    \n",
       "01/01/2015 12:00:00 AM                    10               20            1   \n",
       "02/01/2015 12:00:00 AM                    10               20            2   \n",
       "03/01/2015 12:00:00 AM                    10               20            3   \n",
       "04/01/2015 12:00:00 AM                    10               20            4   \n",
       "05/01/2015 12:00:00 AM                    10               20            5   \n",
       "\n",
       "                           Month  Year  Volume YTD  Volume YTD Change  \\\n",
       "MonthYear                                                               \n",
       "01/01/2015 12:00:00 AM   January  2015       67391                NaN   \n",
       "02/01/2015 12:00:00 AM  February  2015      128466                NaN   \n",
       "03/01/2015 12:00:00 AM     March  2015      204334                NaN   \n",
       "04/01/2015 12:00:00 AM     April  2015      285138                NaN   \n",
       "05/01/2015 12:00:00 AM       May  2015      373993                NaN   \n",
       "\n",
       "                        Volume Month YOY Change  Total Time YOY Change  \n",
       "MonthYear                                                               \n",
       "01/01/2015 12:00:00 AM                      NaN                    NaN  \n",
       "02/01/2015 12:00:00 AM                      NaN                    NaN  \n",
       "03/01/2015 12:00:00 AM                      NaN                    NaN  \n",
       "04/01/2015 12:00:00 AM                      NaN                    NaN  \n",
       "05/01/2015 12:00:00 AM                      NaN                    NaN  "
      ]
     },
     "execution_count": 194,
     "metadata": {},
     "output_type": "execute_result"
    }
   ],
   "source": [
    "calls.head()"
   ]
  },
  {
   "cell_type": "code",
   "execution_count": 200,
   "metadata": {},
   "outputs": [],
   "source": [
    "calls = pd.read_csv(\n",
    "    \"911_Performance.csv\", \n",
    "    parse_dates=['MonthYear']\n",
    ")"
   ]
  },
  {
   "cell_type": "code",
   "execution_count": 203,
   "metadata": {},
   "outputs": [],
   "source": [
    "calls = calls.set_index('MonthYear')"
   ]
  },
  {
   "cell_type": "code",
   "execution_count": 228,
   "metadata": {},
   "outputs": [
    {
     "data": {
      "text/plain": [
       "<matplotlib.axes._subplots.AxesSubplot at 0x1c3ad67710>"
      ]
     },
     "execution_count": 228,
     "metadata": {},
     "output_type": "execute_result"
    },
    {
     "data": {
      "image/png": "[encoded data removed]",
      "text/plain": [
       "<Figure size 720x432 with 1 Axes>"
      ]
     },
     "metadata": {
      "needs_background": "light"
     },
     "output_type": "display_data"
    }
   ],
   "source": [
    "calls['Volume'].resample('Y').mean().plot.bar(figsize=(10,6), fontsize=14)"
   ]
  },
  {
   "cell_type": "code",
   "execution_count": 211,
   "metadata": {
    "scrolled": false
   },
   "outputs": [
    {
     "data": {
      "text/plain": [
       "<matplotlib.axes._subplots.AxesSubplot at 0x1c39ff7da0>"
      ]
     },
     "execution_count": 211,
     "metadata": {},
     "output_type": "execute_result"
    },
    {
     "data": {
      "image/png": "[encoded data removed]",
      "text/plain": [
       "<Figure size 720x432 with 1 Axes>"
      ]
     },
     "metadata": {
      "needs_background": "light"
     },
     "output_type": "display_data"
    }
   ],
   "source": [
    "calls['Volume'].resample('Y').mean().plot.line(figsize=(10,6), fontsize=14)"
   ]
  },
  {
   "cell_type": "markdown",
   "metadata": {},
   "source": [
    "One of these plot types is the lag plot. A lag plot compares data points from each observation in the dataset against data points from a previous observation. So for example, data from December 2016 will be compared with data from November 2016, which will in turn be compared with data from October 2016, and so on. "
   ]
  },
  {
   "cell_type": "code",
   "execution_count": 213,
   "metadata": {
    "scrolled": false
   },
   "outputs": [
    {
     "data": {
      "text/plain": [
       "<matplotlib.axes._subplots.AxesSubplot at 0x1c3a19ff60>"
      ]
     },
     "execution_count": 213,
     "metadata": {},
     "output_type": "execute_result"
    },
    {
     "data": {
      "image/png": "[encoded data removed]",
      "text/plain": [
       "<Figure size 432x288 with 1 Axes>"
      ]
     },
     "metadata": {
      "needs_background": "light"
     },
     "output_type": "display_data"
    }
   ],
   "source": [
    "from pandas.plotting import lag_plot\n",
    "\n",
    "lag_plot(calls['Volume'])"
   ]
  },
  {
   "cell_type": "markdown",
   "metadata": {},
   "source": [
    "It looks like months when volume is high are somewhat correlated with one another. A month of high call volume does somewhat signal that the month day will also involve high call volumes."
   ]
  },
  {
   "cell_type": "markdown",
   "metadata": {},
   "source": [
    "====================================================================================================================="
   ]
  },
  {
   "cell_type": "markdown",
   "metadata": {},
   "source": [
    "A plot type that takes this concept and goes even further with it is the autocorrelation plot. The autocorrelation plot is a multivariate summarization-type plot that lets you check every periodicity at the same time. It does this by computing a summary statistic—the correlation score—across every possible lag in the dataset. This is known as autocorrelation.\n",
    "\n",
    "In an autocorrelation plot the lag is on the x-axis and the autocorrelation score is on the y-axis. The farther away the autocorrelation is from 0, the greater the influence that records that far away from each other exert on one another."
   ]
  },
  {
   "cell_type": "code",
   "execution_count": 214,
   "metadata": {},
   "outputs": [
    {
     "data": {
      "text/plain": [
       "<matplotlib.axes._subplots.AxesSubplot at 0x1c3a1df1d0>"
      ]
     },
     "execution_count": 214,
     "metadata": {},
     "output_type": "execute_result"
    },
    {
     "data": {
      "image/png": "[encoded data removed]",
      "text/plain": [
       "<Figure size 432x288 with 1 Axes>"
      ]
     },
     "metadata": {
      "needs_background": "light"
     },
     "output_type": "display_data"
    }
   ],
   "source": [
    "from pandas.plotting import autocorrelation_plot\n",
    "\n",
    "autocorrelation_plot(calls['Volume'])"
   ]
  },
  {
   "cell_type": "markdown",
   "metadata": {},
   "source": [
    "X-axis represents the lag between any month and another. So 20 indicates a correlation between one month and 20 months prior, and so on. At lag[0], we expect the correlation to be at or around 1, which it is, because we are only observing the correlation(Y-axis) from month day to itself.\n",
    "\n",
    "As we move along, our correlation starts to decrease and get closer to 0, meaning the call volume is becoming less correlated to the month before as the difference between any given month and x months prior increases. "
   ]
  },
  {
   "cell_type": "markdown",
   "metadata": {},
   "source": [
    "====================================================================================================================="
   ]
  },
  {
   "cell_type": "code",
   "execution_count": 218,
   "metadata": {},
   "outputs": [],
   "source": [
    "from matplotlib import pyplot"
   ]
  },
  {
   "cell_type": "code",
   "execution_count": 219,
   "metadata": {},
   "outputs": [],
   "source": [
    "from pandas import Series"
   ]
  },
  {
   "cell_type": "code",
   "execution_count": 220,
   "metadata": {},
   "outputs": [],
   "source": [
    "from statsmodels.graphics.tsaplots import plot_acf"
   ]
  },
  {
   "cell_type": "markdown",
   "metadata": {},
   "source": [
    "We can assume the distribution of each variable fits a Gaussian (bell curve) distribution. If this is the case, we can use the Pearson’s correlation coefficient to summarize the correlation between the variables.\n",
    "\n",
    "The Pearson’s correlation coefficient is a number between -1 and 1 that describes a negative or positive correlation respectively. A value of zero indicates no correlation.\n",
    "\n",
    "We can calculate the correlation for time series observations with observations with previous time steps, called lags. Because the correlation of the time series observations is calculated with values of the same series at previous times, this is called a serial correlation, or an autocorrelation.\n",
    "\n",
    "A plot of the autocorrelation of a time series by lag is called the AutoCorrelation Function, or the acronym ACF. This plot is sometimes called a correlogram or an autocorrelation plot.\n",
    "\n",
    "Running the example creates a 2D plot showing the lag value along the x-axis and the correlation on the y-axis between -1 and 1.\n",
    "\n",
    "Confidence intervals are drawn as a cone. By default, this is set to a 95% confidence interval, suggesting that correlation values outside of this code are very likely a correlation and not a statistical fluke."
   ]
  },
  {
   "cell_type": "code",
   "execution_count": 223,
   "metadata": {},
   "outputs": [
    {
     "data": {
      "image/png": "[encoded data removed]",
      "text/plain": [
       "<Figure size 432x288 with 1 Axes>"
      ]
     },
     "metadata": {
      "needs_background": "light"
     },
     "output_type": "display_data"
    }
   ],
   "source": [
    "series = Series.from_csv('911_Performance.csv', header=0)\n",
    "plot_acf(series)\n",
    "pyplot.show()"
   ]
  },
  {
   "cell_type": "markdown",
   "metadata": {},
   "source": [
    "====================================================================================================================="
   ]
  },
  {
   "cell_type": "code",
   "execution_count": null,
   "metadata": {},
   "outputs": [],
   "source": []
  }
 ],
 "metadata": {
  "kernelspec": {
   "display_name": "Python 3",
   "language": "python",
   "name": "python3"
  },
  "language_info": {
   "codemirror_mode": {
    "name": "ipython",
    "version": 3
   },
   "file_extension": ".py",
   "mimetype": "text/x-python",
   "name": "python",
   "nbconvert_exporter": "python",
   "pygments_lexer": "ipython3",
   "version": "3.7.0"
  }
 },
 "nbformat": 4,
 "nbformat_minor": 2
}
